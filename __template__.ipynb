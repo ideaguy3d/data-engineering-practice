{
 "cells": [
  {
   "cell_type": "markdown",
   "source": [
    "Get some quick ad hoc queries up and running on Health Cloud."
   ],
   "metadata": {
    "collapsed": false
   },
   "id": "a6373fcd7139cf9d"
  },
  {
   "cell_type": "markdown",
   "source": [
    "# --imports "
   ],
   "metadata": {
    "collapsed": false
   },
   "id": "d624121c02410479"
  },
  {
   "cell_type": "code",
   "execution_count": null,
   "id": "initial_id",
   "metadata": {
    "collapsed": true
   },
   "outputs": [],
   "source": [
    "import pyspark.sql.dataframe\n",
    "import plotly.express as px\n",
    "import dash_bootstrap_components as dbc\n",
    "import pandas\n",
    "import plotly.graph_objects as go\n",
    "import plotly.figure_factory as ff\n",
    "import matplotlib.pyplot as plt\n",
    "from dash import Dash, html, dash_table, dcc, Output, Input\n",
    "from dash.exceptions import PreventUpdate\n",
    "from pyspark.sql import SparkSession\n",
    "from IPython.display import Markdown\n",
    "\n",
    "pandas.set_option(\"display.max_colwidth\", None)\n",
    "pandas.set_option(\"display.max_columns\", None)\n",
    "# pandas.set_option(\"display.max_rows\", None)\n",
    "\n",
    "def to_panda(spark_df: pyspark.sql.dataframe.DataFrame) -> pandas.DataFrame:\n",
    "    \"\"\"\n",
    "    Convert a Spark DataFrame to a Pandas DataFrame.\n",
    "    \n",
    "    :param spark_df: the Spark DataFrame to convert \n",
    "    :return: the pandas DataFrame\n",
    "    \"\"\"\n",
    "    return pandas.DataFrame([row.asDict() for row in spark_df.collect()])"
   ]
  },
  {
   "cell_type": "markdown",
   "source": [
    "Example of how to get variables into markdown"
   ],
   "metadata": {
    "collapsed": false
   },
   "id": "8beac394ca090f30"
  },
  {
   "cell_type": "code",
   "execution_count": null,
   "outputs": [],
   "source": [
    "# Example of how to get variables into markdown\n",
    "\n",
    "var1 = 10\n",
    "var2 = 20\n",
    "info = 'Dynamically generated markdown'\n",
    "md_text = f\"\"\"\n",
    "# {info}\n",
    "## Results\n",
    "\n",
    "- The value of `var1` is: {var1}\n",
    "- The value of `var2` is: {var2}\n",
    "\"\"\"\n",
    "\n",
    "Markdown(md_text)"
   ],
   "metadata": {
    "collapsed": false
   },
   "id": "e53c2776c7dda95e"
  },
  {
   "cell_type": "code",
   "execution_count": null,
   "outputs": [],
   "source": [
    "# name of the spark app \n",
    "THE_SPARK_APP_NAME = \"____????????????????????????????____\"\n",
    "\n",
    "spark = (\n",
    "    SparkSession\n",
    "    .builder\n",
    "    .config(\"spark.sql.adaptive.enabled\", \"true\")\n",
    "    .config(\"spark.jars\", \"hds://code/utah/utah.jar\")\n",
    "    .config(\"spark.sql.session.timeZone\", \"UTC\")\n",
    "    .config(\"spark.driver.memory\", \"128g\")\n",
    "    .config(\"spark.executor.memory\", \"128g\")\n",
    "    .config(\"spark.driver.maxResultSize\", \"64g\")\n",
    "    .config(\"spark.executor.instances\", 10)\n",
    "    .config(\"spark.executor.cores\", 8)\n",
    "    .config(\"spark.sql.execution.arrow.pyspark.enabled\", \"true\")\n",
    "    .config(\"spark.sql.broadcastTimeout\", 12000)\n",
    "    .appName(THE_SPARK_APP_NAME)\n",
    "    .getOrCreate()\n",
    ")\n",
    "\n",
    "spark"
   ],
   "metadata": {
    "collapsed": false
   },
   "id": "f2b1e3c29473148a"
  },
  {
   "cell_type": "code",
   "execution_count": null,
   "outputs": [],
   "source": [
    "utah = spark._jvm.com.apple.hds.utah.Utah(spark._jsparkSession)"
   ],
   "metadata": {
    "collapsed": false
   },
   "id": "3cae1a30b21ef4e1"
  },
  {
   "cell_type": "code",
   "execution_count": null,
   "outputs": [],
   "source": [
    "%%time \n",
    "\n",
    "spark.sql(\"\"\"\n",
    "    SELECT *\n",
    "    FROM utah_tables\n",
    "\"\"\").toPandas()"
   ],
   "metadata": {
    "collapsed": false
   },
   "id": "86515a410f234b61"
  },
  {
   "cell_type": "markdown",
   "source": [
    "# --utah load tables "
   ],
   "metadata": {
    "collapsed": false
   },
   "id": "a6f45e75ed9a92fa"
  },
  {
   "cell_type": "code",
   "execution_count": null,
   "outputs": [],
   "source": [
    "%%time \n",
    "\n",
    "utah_tables = [\n",
    "    ## ~ Alchemy Tables ~\n",
    "    'core_base_rawlog',\n",
    "    'app_base_appcheckin',\n",
    "    'app_base_appmetadata',\n",
    "    'core_dim_external_subject_full',\n",
    "    'core_dim_external_subject',\n",
    "    'rk_base_task_result_referenced',\n",
    "    'bundle_hist_task_reference',\n",
    "    'hk_base_activity_summary',\n",
    "    'hk_base_quantity',\n",
    "    'core_dim_subject',\n",
    "    'core_dim_subject_full',\n",
    "    'app_base_event',\n",
    "\n",
    "    ## ~ Evergreen Tables ~\n",
    "    'evergreen_monitor_samples',\n",
    "    'evergreen_monitor_subjects',\n",
    "    'evergreen_v2_caffe_macs',\n",
    "    'evergreen_v2_calendar_events',\n",
    "    'evergreen_v2_weather_loaded',\n",
    "    'evergreen_v2_weather_error',\n",
    "    'evergreen_v2_survey'\n",
    "]\n",
    "count = 0\n",
    "for ut in utah_tables:\n",
    "    utah.loadTable(ut)\n",
    "    print(f'-> {ut} loaded')\n",
    "    count += 1\n",
    "\n",
    "print(f'All {count} Utah & Evergreen tables loaded ✅')"
   ],
   "metadata": {
    "collapsed": false
   },
   "id": "4b1218b11d704afc"
  },
  {
   "cell_type": "markdown",
   "source": [
    "# --queries "
   ],
   "metadata": {
    "collapsed": false
   },
   "id": "97bc865e90b427de"
  },
  {
   "cell_type": "code",
   "execution_count": null,
   "outputs": [],
   "source": [
    "%%time \n",
    "\n",
    "app_base_appcheckin_spark_df = spark.sql(\"\"\"\n",
    "    SELECT *\n",
    "    FROM app_base_appcheckin\n",
    "\"\"\")\n",
    "\n",
    "app_base_appcheckin_panda_df = to_panda(app_base_appcheckin_spark_df)\n",
    "app_base_appcheckin_panda_df"
   ],
   "metadata": {
    "collapsed": false
   },
   "id": "d94e587e356fea51"
  },
  {
   "cell_type": "code",
   "execution_count": null,
   "outputs": [],
   "source": [
    "%%time \n",
    "\n",
    "caffe_spark_df = spark.sql(\"\"\"\n",
    "    SELECT *\n",
    "    FROM evergreen_v2_caffe_macs\n",
    "\"\"\")\n",
    "\n",
    "caffe_panda_df = to_panda(caffe_spark_df)\n",
    "caffe_panda_df"
   ],
   "metadata": {
    "collapsed": false
   },
   "id": "593a337db3109deb"
  },
  {
   "cell_type": "code",
   "outputs": [],
   "source": [
    "%%time\n"
   ],
   "metadata": {
    "collapsed": false
   },
   "id": "7267900eb4be6824"
  },
  {
   "cell_type": "code",
   "outputs": [],
   "source": [
    "%%time\n"
   ],
   "metadata": {
    "collapsed": false
   },
   "id": "6950eb71f8bc7f2"
  },
  {
   "cell_type": "code",
   "outputs": [],
   "source": [
    "%%time\n"
   ],
   "metadata": {
    "collapsed": false
   },
   "id": "407658ae75e09697"
  },
  {
   "cell_type": "code",
   "outputs": [],
   "source": [
    "%%time\n"
   ],
   "metadata": {
    "collapsed": false
   },
   "id": "aade01b0e508fa73"
  },
  {
   "cell_type": "code",
   "outputs": [],
   "source": [
    "%%time\n"
   ],
   "metadata": {
    "collapsed": false
   },
   "id": "f3ddc3d55e3a23d9"
  }
 ],
 "metadata": {
  "kernelspec": {
   "display_name": "Python 3",
   "language": "python",
   "name": "python3"
  },
  "language_info": {
   "codemirror_mode": {
    "name": "ipython",
    "version": 2
   },
   "file_extension": ".py",
   "mimetype": "text/x-python",
   "name": "python",
   "nbconvert_exporter": "python",
   "pygments_lexer": "ipython2",
   "version": "2.7.6"
  }
 },
 "nbformat": 4,
 "nbformat_minor": 5
}
