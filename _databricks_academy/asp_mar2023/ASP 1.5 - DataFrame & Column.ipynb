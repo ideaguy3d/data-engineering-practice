{
 "cells": [
  {
   "cell_type": "markdown",
   "metadata": {
    "application/vnd.databricks.v1+cell": {
     "cellMetadata": {},
     "inputWidgets": {},
     "nuid": "2751751a-50c3-4b24-9dfd-caa4968fa220",
     "showTitle": false,
     "title": ""
    }
   },
   "source": [
    "-sandbox\n",
    "\n",
    "<div style=\"text-align: center; line-height: 0; padding-top: 9px;\">\n",
    "  <img src=\"https://databricks.com/wp-content/uploads/2018/03/db-academy-rgb-1200px.png\" alt=\"Databricks Learning\" style=\"width: 600px\">\n",
    "</div>"
   ]
  },
  {
   "cell_type": "markdown",
   "metadata": {
    "application/vnd.databricks.v1+cell": {
     "cellMetadata": {},
     "inputWidgets": {},
     "nuid": "630b6dc6-58cb-4b1c-8137-a8f52b140f61",
     "showTitle": false,
     "title": ""
    }
   },
   "source": [
    "# DataFrame & Column\n",
    "##### Objectives\n",
    "1. Construct columns\n",
    "1. Subset columns\n",
    "1. Add or replace columns\n",
    "1. Subset rows\n",
    "1. Sort rows\n",
    "\n",
    "##### Methods\n",
    "- <a href=\"https://spark.apache.org/docs/latest/api/python/reference/api/pyspark.sql.DataFrame.html\" target=\"_blank\">DataFrame</a>: `select`, `selectExpr`, `drop`, `withColumn`, `withColumnRenamed`, `filter`, `distinct`, `limit`, `sort`\n",
    "- <a href=\"https://spark.apache.org/docs/latest/api/python/reference/api/pyspark.sql.Column.html\" target=\"_blank\">Column</a>: `alias`, `isin`, `cast`, `isNotNull`, `desc`, operators"
   ]
  },
  {
   "cell_type": "code",
   "execution_count": 0,
   "metadata": {
    "application/vnd.databricks.v1+cell": {
     "cellMetadata": {},
     "inputWidgets": {},
     "nuid": "b9cb6466-01b4-409c-bbe1-4d408672a9b9",
     "showTitle": false,
     "title": ""
    }
   },
   "outputs": [],
   "source": [
    "%run ./Includes/Classroom-Setup"
   ]
  },
  {
   "cell_type": "markdown",
   "metadata": {
    "application/vnd.databricks.v1+cell": {
     "cellMetadata": {},
     "inputWidgets": {},
     "nuid": "8a3932e3-a4e3-4f5e-8393-98f62017469c",
     "showTitle": false,
     "title": ""
    }
   },
   "source": [
    "Let's use the BedBricks events dataset."
   ]
  },
  {
   "cell_type": "code",
   "execution_count": 0,
   "metadata": {
    "application/vnd.databricks.v1+cell": {
     "cellMetadata": {},
     "inputWidgets": {},
     "nuid": "6a10a539-eeb9-4278-85e2-021d094831ac",
     "showTitle": false,
     "title": ""
    }
   },
   "outputs": [],
   "source": [
    "eventsDF = spark.read.parquet(eventsPath)\n",
    "display(eventsDF)"
   ]
  },
  {
   "cell_type": "markdown",
   "metadata": {
    "application/vnd.databricks.v1+cell": {
     "cellMetadata": {},
     "inputWidgets": {},
     "nuid": "faff6f82-df7b-4fdb-b8d1-1fcc3aedd55b",
     "showTitle": false,
     "title": ""
    }
   },
   "source": [
    "## Column Expressions\n",
    "\n",
    "A <a href=\"https://spark.apache.org/docs/latest/api/python/reference/api/pyspark.sql.Column.html\" target=\"_blank\">Column</a> is a logical construction that will be computed based on the data in a DataFrame using an expression\n",
    "\n",
    "Construct a new Column based on existing columns in a DataFrame"
   ]
  },
  {
   "cell_type": "code",
   "execution_count": 0,
   "metadata": {
    "application/vnd.databricks.v1+cell": {
     "cellMetadata": {},
     "inputWidgets": {},
     "nuid": "f778fa76-32d7-4297-ba25-c3d443d57dea",
     "showTitle": false,
     "title": ""
    }
   },
   "outputs": [],
   "source": [
    "from pyspark.sql.functions import col\n",
    "\n",
    "eventsDF.device\n",
    "eventsDF[\"device\"]\n",
    "col(\"device\")"
   ]
  },
  {
   "cell_type": "markdown",
   "metadata": {
    "application/vnd.databricks.v1+cell": {
     "cellMetadata": {},
     "inputWidgets": {},
     "nuid": "b995604f-4d8e-45e6-8cdc-565f24c4868b",
     "showTitle": false,
     "title": ""
    }
   },
   "source": [
    "Scala supports an additional syntax for creating a new Column based on existing columns in a DataFrame"
   ]
  },
  {
   "cell_type": "code",
   "execution_count": 0,
   "metadata": {
    "application/vnd.databricks.v1+cell": {
     "cellMetadata": {},
     "inputWidgets": {},
     "nuid": "69b8c40f-a967-4438-bb7b-d18ede62ca4e",
     "showTitle": false,
     "title": ""
    }
   },
   "outputs": [],
   "source": [
    "%scala\n",
    "$\"device\""
   ]
  },
  {
   "cell_type": "markdown",
   "metadata": {
    "application/vnd.databricks.v1+cell": {
     "cellMetadata": {},
     "inputWidgets": {},
     "nuid": "fde53b4e-4e7b-4b3e-bff5-49fe4a2283d0",
     "showTitle": false,
     "title": ""
    }
   },
   "source": [
    "### Column Operators and Methods\n",
    "| Method | Description |\n",
    "| --- | --- |\n",
    "| \\*, + , <, >= | Math and comparison operators |\n",
    "| ==, != | Equality and inequality tests (Scala operators are `===` and `=!=`) |\n",
    "| alias | Gives the column an alias |\n",
    "| cast, astype | Casts the column to a different data type |\n",
    "| isNull, isNotNull, isNan | Is null, is not null, is NaN |\n",
    "| asc, desc | Returns a sort expression based on ascending/descending order of the column |"
   ]
  },
  {
   "cell_type": "markdown",
   "metadata": {
    "application/vnd.databricks.v1+cell": {
     "cellMetadata": {},
     "inputWidgets": {},
     "nuid": "22fdf309-fb12-48d1-9271-76e0a2f75349",
     "showTitle": false,
     "title": ""
    }
   },
   "source": [
    "Create complex expressions with existing columns, operators, and methods."
   ]
  },
  {
   "cell_type": "code",
   "execution_count": 0,
   "metadata": {
    "application/vnd.databricks.v1+cell": {
     "cellMetadata": {},
     "inputWidgets": {},
     "nuid": "7556006c-9bde-42c9-9b58-7386c2380554",
     "showTitle": false,
     "title": ""
    }
   },
   "outputs": [],
   "source": [
    "col(\"ecommerce.purchase_revenue_in_usd\") + col(\"ecommerce.total_item_quantity\")\n",
    "col(\"event_timestamp\").desc()\n",
    "(col(\"ecommerce.purchase_revenue_in_usd\") * 100).cast(\"int\")"
   ]
  },
  {
   "cell_type": "markdown",
   "metadata": {
    "application/vnd.databricks.v1+cell": {
     "cellMetadata": {},
     "inputWidgets": {},
     "nuid": "cbb7e7cb-0992-4ab2-8e20-28992f604cdf",
     "showTitle": false,
     "title": ""
    }
   },
   "source": [
    "Here's an example of using these column expressions in the context of a DataFrame"
   ]
  },
  {
   "cell_type": "code",
   "execution_count": 0,
   "metadata": {
    "application/vnd.databricks.v1+cell": {
     "cellMetadata": {},
     "inputWidgets": {},
     "nuid": "c6040be8-6d5d-45ac-846e-bfdc0b515c15",
     "showTitle": false,
     "title": ""
    }
   },
   "outputs": [],
   "source": [
    "revDF = (eventsDF\n",
    "         .filter(col(\"ecommerce.purchase_revenue_in_usd\").isNotNull())\n",
    "         .withColumn(\"purchase_revenue\", (col(\"ecommerce.purchase_revenue_in_usd\") * 100).cast(\"int\"))\n",
    "         .withColumn(\"avg_purchase_revenue\", col(\"ecommerce.purchase_revenue_in_usd\") / col(\"ecommerce.total_item_quantity\"))\n",
    "         .sort(col(\"avg_purchase_revenue\").desc())\n",
    "        )\n",
    "\n",
    "display(revDF)"
   ]
  },
  {
   "cell_type": "markdown",
   "metadata": {
    "application/vnd.databricks.v1+cell": {
     "cellMetadata": {},
     "inputWidgets": {},
     "nuid": "b62e18d2-99b9-4821-9c0e-24cae1399c09",
     "showTitle": false,
     "title": ""
    }
   },
   "source": [
    "## DataFrame Transformation Methods\n",
    "| Method | Description |\n",
    "| --- | --- |\n",
    "| select | Returns a new DataFrame by computing given expression for each element |\n",
    "| drop | Returns a new DataFrame with a column dropped |\n",
    "| withColumnRenamed | Returns a new DataFrame with a column renamed |\n",
    "| withColumn | Returns a new DataFrame by adding a column or replacing the existing column that has the same name |\n",
    "| filter, where | Filters rows using the given condition |\n",
    "| sort, orderBy | Returns a new DataFrame sorted by the given expressions |\n",
    "| dropDuplicates, distinct | Returns a new DataFrame with duplicate rows removed |\n",
    "| limit | Returns a new DataFrame by taking the first n rows |\n",
    "| groupBy | Groups the DataFrame using the specified columns, so we can run aggregation on them |"
   ]
  },
  {
   "cell_type": "markdown",
   "metadata": {
    "application/vnd.databricks.v1+cell": {
     "cellMetadata": {},
     "inputWidgets": {},
     "nuid": "f7d3fc70-ff5e-4d25-aba1-315786f692b1",
     "showTitle": false,
     "title": ""
    }
   },
   "source": [
    "### Subset columns\n",
    "Use DataFrame transformations to subset columns"
   ]
  },
  {
   "cell_type": "markdown",
   "metadata": {
    "application/vnd.databricks.v1+cell": {
     "cellMetadata": {},
     "inputWidgets": {},
     "nuid": "47b94771-d002-44b8-9dbb-bf86244dc4ab",
     "showTitle": false,
     "title": ""
    }
   },
   "source": [
    "#### `select()`\n",
    "Selects a list of columns or column based expressions"
   ]
  },
  {
   "cell_type": "code",
   "execution_count": 0,
   "metadata": {
    "application/vnd.databricks.v1+cell": {
     "cellMetadata": {},
     "inputWidgets": {},
     "nuid": "7668df23-6d8b-45b9-beeb-4298f3c66ad2",
     "showTitle": false,
     "title": ""
    }
   },
   "outputs": [],
   "source": [
    "devicesDF = eventsDF.select(\"user_id\", \"device\")\n",
    "display(devicesDF)"
   ]
  },
  {
   "cell_type": "code",
   "execution_count": 0,
   "metadata": {
    "application/vnd.databricks.v1+cell": {
     "cellMetadata": {},
     "inputWidgets": {},
     "nuid": "47831fb6-79f3-49c2-b831-36ce0b60650b",
     "showTitle": false,
     "title": ""
    }
   },
   "outputs": [],
   "source": [
    "from pyspark.sql.functions import col\n",
    "\n",
    "locationsDF = eventsDF.select(\n",
    "    \"user_id\", \n",
    "    col(\"geo.city\").alias(\"city\"), \n",
    "    col(\"geo.state\").alias(\"state\")\n",
    ")\n",
    "display(locationsDF)"
   ]
  },
  {
   "cell_type": "markdown",
   "metadata": {
    "application/vnd.databricks.v1+cell": {
     "cellMetadata": {},
     "inputWidgets": {},
     "nuid": "b85930d2-3df0-4eab-bc44-2a8a8e84c5f4",
     "showTitle": false,
     "title": ""
    }
   },
   "source": [
    "#### `selectExpr()`\n",
    "Selects a list of SQL expressions"
   ]
  },
  {
   "cell_type": "code",
   "execution_count": 0,
   "metadata": {
    "application/vnd.databricks.v1+cell": {
     "cellMetadata": {},
     "inputWidgets": {},
     "nuid": "edec2e61-360b-4819-9a14-56613f7ba764",
     "showTitle": false,
     "title": ""
    }
   },
   "outputs": [],
   "source": [
    "appleDF = eventsDF.selectExpr(\"user_id\", \"device in ('macOS', 'iOS') as apple_user\")\n",
    "display(appleDF)"
   ]
  },
  {
   "cell_type": "markdown",
   "metadata": {
    "application/vnd.databricks.v1+cell": {
     "cellMetadata": {},
     "inputWidgets": {},
     "nuid": "757d03ea-81d7-4347-97e1-fdac95973335",
     "showTitle": false,
     "title": ""
    }
   },
   "source": [
    "#### `drop()`\n",
    "Returns a new DataFrame after dropping the given column, specified as a string or Column object\n",
    "\n",
    "Use strings to specify multiple columns"
   ]
  },
  {
   "cell_type": "code",
   "execution_count": 0,
   "metadata": {
    "application/vnd.databricks.v1+cell": {
     "cellMetadata": {},
     "inputWidgets": {},
     "nuid": "32f50d49-8e96-4112-9836-e4ba36e0fc69",
     "showTitle": false,
     "title": ""
    }
   },
   "outputs": [],
   "source": [
    "anonymousDF = eventsDF.drop(\"user_id\", \"geo\", \"device\")\n",
    "display(anonymousDF)"
   ]
  },
  {
   "cell_type": "code",
   "execution_count": 0,
   "metadata": {
    "application/vnd.databricks.v1+cell": {
     "cellMetadata": {},
     "inputWidgets": {},
     "nuid": "1a1ab615-2029-4d93-a527-a84ea3ffcaee",
     "showTitle": false,
     "title": ""
    }
   },
   "outputs": [],
   "source": [
    "noSalesDF = eventsDF.drop(col(\"ecommerce\"))\n",
    "display(noSalesDF)"
   ]
  },
  {
   "cell_type": "markdown",
   "metadata": {
    "application/vnd.databricks.v1+cell": {
     "cellMetadata": {},
     "inputWidgets": {},
     "nuid": "ed2122d8-911f-4a72-8f5c-06091b51fb1b",
     "showTitle": false,
     "title": ""
    }
   },
   "source": [
    "### Add or replace columns\n",
    "Use DataFrame transformations to add or replace columns"
   ]
  },
  {
   "cell_type": "markdown",
   "metadata": {
    "application/vnd.databricks.v1+cell": {
     "cellMetadata": {},
     "inputWidgets": {},
     "nuid": "fba4f188-5a61-4bbf-bb1c-f909e54357ff",
     "showTitle": false,
     "title": ""
    }
   },
   "source": [
    "#### `withColumn()`\n",
    "Returns a new DataFrame by adding a column or replacing an existing column that has the same name."
   ]
  },
  {
   "cell_type": "code",
   "execution_count": 0,
   "metadata": {
    "application/vnd.databricks.v1+cell": {
     "cellMetadata": {},
     "inputWidgets": {},
     "nuid": "60e11894-afb5-496e-864a-97087368e49f",
     "showTitle": false,
     "title": ""
    }
   },
   "outputs": [],
   "source": [
    "mobileDF = eventsDF.withColumn(\"mobile\", col(\"device\").isin(\"iOS\", \"Android\"))\n",
    "display(mobileDF)"
   ]
  },
  {
   "cell_type": "code",
   "execution_count": 0,
   "metadata": {
    "application/vnd.databricks.v1+cell": {
     "cellMetadata": {},
     "inputWidgets": {},
     "nuid": "4a70a497-c5d3-4f99-be5c-5f4e32cc0f64",
     "showTitle": false,
     "title": ""
    }
   },
   "outputs": [],
   "source": [
    "purchaseQuantityDF = eventsDF.withColumn(\"purchase_quantity\", col(\"ecommerce.total_item_quantity\").cast(\"int\"))\n",
    "purchaseQuantityDF.printSchema()"
   ]
  },
  {
   "cell_type": "markdown",
   "metadata": {
    "application/vnd.databricks.v1+cell": {
     "cellMetadata": {},
     "inputWidgets": {},
     "nuid": "28abcd53-3c3e-4bc1-bf3c-ba57311d9582",
     "showTitle": false,
     "title": ""
    }
   },
   "source": [
    "#### `withColumnRenamed()`\n",
    "Returns a new DataFrame with a column renamed."
   ]
  },
  {
   "cell_type": "code",
   "execution_count": 0,
   "metadata": {
    "application/vnd.databricks.v1+cell": {
     "cellMetadata": {},
     "inputWidgets": {},
     "nuid": "0ab10f9d-4396-4909-a3aa-d48ce2e04a30",
     "showTitle": false,
     "title": ""
    }
   },
   "outputs": [],
   "source": [
    "locationDF = eventsDF.withColumnRenamed(\"geo\", \"location\")\n",
    "display(locationDF)"
   ]
  },
  {
   "cell_type": "markdown",
   "metadata": {
    "application/vnd.databricks.v1+cell": {
     "cellMetadata": {},
     "inputWidgets": {},
     "nuid": "6865f995-1419-4809-b671-fc1b59a3696e",
     "showTitle": false,
     "title": ""
    }
   },
   "source": [
    "### Subset Rows\n",
    "Use DataFrame transformations to subset rows"
   ]
  },
  {
   "cell_type": "markdown",
   "metadata": {
    "application/vnd.databricks.v1+cell": {
     "cellMetadata": {},
     "inputWidgets": {},
     "nuid": "d70f19e2-212e-438e-9749-61a17f4b6773",
     "showTitle": false,
     "title": ""
    }
   },
   "source": [
    "#### `filter()`\n",
    "Filters rows using the given SQL expression or column based condition."
   ]
  },
  {
   "cell_type": "code",
   "execution_count": 0,
   "metadata": {
    "application/vnd.databricks.v1+cell": {
     "cellMetadata": {},
     "inputWidgets": {},
     "nuid": "2c2dec97-bcfe-4209-8026-1367cca9c68d",
     "showTitle": false,
     "title": ""
    }
   },
   "outputs": [],
   "source": [
    "purchasesDF = eventsDF.filter(\"ecommerce.total_item_quantity > 0\")\n",
    "display(purchasesDF)"
   ]
  },
  {
   "cell_type": "code",
   "execution_count": 0,
   "metadata": {
    "application/vnd.databricks.v1+cell": {
     "cellMetadata": {},
     "inputWidgets": {},
     "nuid": "5124a0af-5251-4660-94a9-eb0ce878dcc4",
     "showTitle": false,
     "title": ""
    }
   },
   "outputs": [],
   "source": [
    "revenueDF = eventsDF.filter(col(\"ecommerce.purchase_revenue_in_usd\").isNotNull())\n",
    "display(revenueDF)"
   ]
  },
  {
   "cell_type": "code",
   "execution_count": 0,
   "metadata": {
    "application/vnd.databricks.v1+cell": {
     "cellMetadata": {},
     "inputWidgets": {},
     "nuid": "9f8a2832-ef9a-4028-a66b-f1eb38a799db",
     "showTitle": false,
     "title": ""
    }
   },
   "outputs": [],
   "source": [
    "androidDF = eventsDF.filter((col(\"traffic_source\") != \"direct\") & (col(\"device\") == \"Android\"))\n",
    "display(androidDF)"
   ]
  },
  {
   "cell_type": "markdown",
   "metadata": {
    "application/vnd.databricks.v1+cell": {
     "cellMetadata": {},
     "inputWidgets": {},
     "nuid": "4762b52b-a5af-4444-a010-d252f1b0662e",
     "showTitle": false,
     "title": ""
    }
   },
   "source": [
    "#### `dropDuplicates()`\n",
    "Returns a new DataFrame with duplicate rows removed, optionally considering only a subset of columns.\n",
    "\n",
    "##### Alias: `distinct`"
   ]
  },
  {
   "cell_type": "code",
   "execution_count": 0,
   "metadata": {
    "application/vnd.databricks.v1+cell": {
     "cellMetadata": {},
     "inputWidgets": {},
     "nuid": "3cc7155f-1d1f-4a61-84a6-72c7ea860a68",
     "showTitle": false,
     "title": ""
    }
   },
   "outputs": [],
   "source": [
    "eventsDF.distinct()"
   ]
  },
  {
   "cell_type": "code",
   "execution_count": 0,
   "metadata": {
    "application/vnd.databricks.v1+cell": {
     "cellMetadata": {},
     "inputWidgets": {},
     "nuid": "a5b6e606-8b71-4586-a9b7-ee5da0e80aea",
     "showTitle": false,
     "title": ""
    }
   },
   "outputs": [],
   "source": [
    "distinctUsersDF = eventsDF.dropDuplicates([\"user_id\"])\n",
    "display(distinctUsersDF)"
   ]
  },
  {
   "cell_type": "markdown",
   "metadata": {
    "application/vnd.databricks.v1+cell": {
     "cellMetadata": {},
     "inputWidgets": {},
     "nuid": "253e5867-2ee4-489f-860b-ab11ca0ea03e",
     "showTitle": false,
     "title": ""
    }
   },
   "source": [
    "#### `limit()`\n",
    "Returns a new DataFrame by taking the first n rows."
   ]
  },
  {
   "cell_type": "code",
   "execution_count": 0,
   "metadata": {
    "application/vnd.databricks.v1+cell": {
     "cellMetadata": {},
     "inputWidgets": {},
     "nuid": "0ed068ab-f52c-4962-b403-27b61f39861a",
     "showTitle": false,
     "title": ""
    }
   },
   "outputs": [],
   "source": [
    "limitDF = eventsDF.limit(100)\n",
    "display(limitDF)"
   ]
  },
  {
   "cell_type": "markdown",
   "metadata": {
    "application/vnd.databricks.v1+cell": {
     "cellMetadata": {},
     "inputWidgets": {},
     "nuid": "a846bf96-bfc9-49c9-9943-3def08a0389f",
     "showTitle": false,
     "title": ""
    }
   },
   "source": [
    "### Sort rows\n",
    "Use DataFrame transformations to sort rows"
   ]
  },
  {
   "cell_type": "markdown",
   "metadata": {
    "application/vnd.databricks.v1+cell": {
     "cellMetadata": {},
     "inputWidgets": {},
     "nuid": "087239ad-97ea-45e8-b3a6-ebc35717f10e",
     "showTitle": false,
     "title": ""
    }
   },
   "source": [
    "#### `sort()`\n",
    "Returns a new DataFrame sorted by the given columns or expressions.\n",
    "\n",
    "##### Alias: `orderBy`"
   ]
  },
  {
   "cell_type": "code",
   "execution_count": 0,
   "metadata": {
    "application/vnd.databricks.v1+cell": {
     "cellMetadata": {},
     "inputWidgets": {},
     "nuid": "b0696368-a78c-4176-a5a2-249f5254b348",
     "showTitle": false,
     "title": ""
    }
   },
   "outputs": [],
   "source": [
    "increaseTimestampsDF = eventsDF.sort(\"event_timestamp\")\n",
    "display(increaseTimestampsDF)"
   ]
  },
  {
   "cell_type": "code",
   "execution_count": 0,
   "metadata": {
    "application/vnd.databricks.v1+cell": {
     "cellMetadata": {},
     "inputWidgets": {},
     "nuid": "0cf15317-6064-4d3f-953c-04212192b0bd",
     "showTitle": false,
     "title": ""
    }
   },
   "outputs": [],
   "source": [
    "decreaseTimestampsDF = eventsDF.sort(col(\"event_timestamp\").desc())\n",
    "display(decreaseTimestampsDF)"
   ]
  },
  {
   "cell_type": "code",
   "execution_count": 0,
   "metadata": {
    "application/vnd.databricks.v1+cell": {
     "cellMetadata": {},
     "inputWidgets": {},
     "nuid": "8790f426-e697-48bb-8d47-3cb3caff0d27",
     "showTitle": false,
     "title": ""
    }
   },
   "outputs": [],
   "source": [
    "increaseSessionsDF = eventsDF.orderBy([\"user_first_touch_timestamp\", \"event_timestamp\"])\n",
    "display(increaseSessionsDF)"
   ]
  },
  {
   "cell_type": "code",
   "execution_count": 0,
   "metadata": {
    "application/vnd.databricks.v1+cell": {
     "cellMetadata": {},
     "inputWidgets": {},
     "nuid": "00261898-9062-4334-88c8-8fc19dceca85",
     "showTitle": false,
     "title": ""
    }
   },
   "outputs": [],
   "source": [
    "decreaseSessionsDF = eventsDF.sort(col(\"user_first_touch_timestamp\").desc(), col(\"event_timestamp\"))\n",
    "display(decreaseSessionsDF)"
   ]
  },
  {
   "cell_type": "markdown",
   "metadata": {
    "application/vnd.databricks.v1+cell": {
     "cellMetadata": {},
     "inputWidgets": {},
     "nuid": "a7557c91-f07a-4ff1-b482-0b8885c6709c",
     "showTitle": false,
     "title": ""
    }
   },
   "source": [
    "# Purchase Revenues Lab\n",
    "\n",
    "Prepare dataset of events with purchase revenue.\n",
    "\n",
    "##### Tasks\n",
    "1. Extract purchase revenue for each event\n",
    "2. Filter events where revenue is not null\n",
    "3. Check what types of events have revenue\n",
    "4. Drop unneeded column\n",
    "\n",
    "##### Methods\n",
    "- DataFrame: `select`, `drop`, `withColumn`, `filter`, `dropDuplicates`\n",
    "- Column: `isNotNull`"
   ]
  },
  {
   "cell_type": "code",
   "execution_count": 0,
   "metadata": {
    "application/vnd.databricks.v1+cell": {
     "cellMetadata": {},
     "inputWidgets": {},
     "nuid": "89cf3467-6720-4f21-b0bb-bf48a1680c59",
     "showTitle": false,
     "title": ""
    }
   },
   "outputs": [],
   "source": [
    "eventsDF = spark.read.parquet(eventsPath)\n",
    "display(eventsDF)"
   ]
  },
  {
   "cell_type": "markdown",
   "metadata": {
    "application/vnd.databricks.v1+cell": {
     "cellMetadata": {},
     "inputWidgets": {},
     "nuid": "63c756cd-31f1-46e7-bd5c-0493f8c60cd4",
     "showTitle": false,
     "title": ""
    }
   },
   "source": [
    "### 1. Extract purchase revenue for each event\n",
    "Add new column **`revenue`** by extracting **`ecommerce.purchase_revenue_in_usd`**"
   ]
  },
  {
   "cell_type": "code",
   "execution_count": 0,
   "metadata": {
    "application/vnd.databricks.v1+cell": {
     "cellMetadata": {},
     "inputWidgets": {},
     "nuid": "9bff53bd-2445-4077-8c6a-d07907a30f7f",
     "showTitle": false,
     "title": ""
    }
   },
   "outputs": [],
   "source": [
    "# TODO\n",
    "revenueDF = eventsDF.FILL_IN\n",
    "display(revenueDF)"
   ]
  },
  {
   "cell_type": "markdown",
   "metadata": {
    "application/vnd.databricks.v1+cell": {
     "cellMetadata": {},
     "inputWidgets": {},
     "nuid": "03209c18-6e01-4b9b-a7e9-c83d0d8bd9aa",
     "showTitle": false,
     "title": ""
    }
   },
   "source": [
    "**CHECK YOUR WORK**"
   ]
  },
  {
   "cell_type": "code",
   "execution_count": 0,
   "metadata": {
    "application/vnd.databricks.v1+cell": {
     "cellMetadata": {},
     "inputWidgets": {},
     "nuid": "ebea30c9-bd39-45c7-a825-fa79841f4ab1",
     "showTitle": false,
     "title": ""
    }
   },
   "outputs": [],
   "source": [
    "expected1 = [5830.0, 5485.0, 5289.0, 5219.1, 5180.0, 5175.0, 5125.0, 5030.0, 4985.0, 4985.0]\n",
    "result1 = [row.revenue for row in revenueDF.sort(col(\"revenue\").desc_nulls_last()).limit(10).collect()]\n",
    "\n",
    "assert(expected1 == result1)"
   ]
  },
  {
   "cell_type": "markdown",
   "metadata": {
    "application/vnd.databricks.v1+cell": {
     "cellMetadata": {},
     "inputWidgets": {},
     "nuid": "299b59e6-e1d7-492e-8a1f-a0a3141f6b0d",
     "showTitle": false,
     "title": ""
    }
   },
   "source": [
    "### 2. Filter events where revenue is not null\n",
    "Filter for records where **`revenue`** is not **`null`**"
   ]
  },
  {
   "cell_type": "code",
   "execution_count": 0,
   "metadata": {
    "application/vnd.databricks.v1+cell": {
     "cellMetadata": {},
     "inputWidgets": {},
     "nuid": "6ae646b7-541d-43b4-ad72-34826551c08b",
     "showTitle": false,
     "title": ""
    }
   },
   "outputs": [],
   "source": [
    "# TODO\n",
    "purchasesDF = revenueDF.FILL_IN\n",
    "display(purchasesDF)"
   ]
  },
  {
   "cell_type": "markdown",
   "metadata": {
    "application/vnd.databricks.v1+cell": {
     "cellMetadata": {},
     "inputWidgets": {},
     "nuid": "1a7b093d-61d6-4168-9d77-951bb6ff05c9",
     "showTitle": false,
     "title": ""
    }
   },
   "source": [
    "**CHECK YOUR WORK**"
   ]
  },
  {
   "cell_type": "code",
   "execution_count": 0,
   "metadata": {
    "application/vnd.databricks.v1+cell": {
     "cellMetadata": {},
     "inputWidgets": {},
     "nuid": "c15d24b1-c0ae-44a9-bc7a-73dcc74bad02",
     "showTitle": false,
     "title": ""
    }
   },
   "outputs": [],
   "source": [
    "assert purchasesDF.filter(col(\"revenue\").isNull()).count() == 0, \"Nulls in 'revenue' column\""
   ]
  },
  {
   "cell_type": "markdown",
   "metadata": {
    "application/vnd.databricks.v1+cell": {
     "cellMetadata": {},
     "inputWidgets": {},
     "nuid": "d5368a4b-9aff-4a7b-a861-633fa6c8c258",
     "showTitle": false,
     "title": ""
    }
   },
   "source": [
    "### 3. Check what types of events have revenue\n",
    "Find unique **`event_name`** values in **`purchasesDF`** in one of two ways:\n",
    "- Select \"event_name\" and get distinct records\n",
    "- Drop duplicate records based on the \"event_name\" only\n",
    "\n",
    "<img src=\"https://files.training.databricks.com/images/icon_hint_32.png\" alt=\"Hint\"> There's only one event associated with revenues"
   ]
  },
  {
   "cell_type": "code",
   "execution_count": 0,
   "metadata": {
    "application/vnd.databricks.v1+cell": {
     "cellMetadata": {},
     "inputWidgets": {},
     "nuid": "31aa04b4-565d-4c02-adef-ba41ed88a8e2",
     "showTitle": false,
     "title": ""
    }
   },
   "outputs": [],
   "source": [
    "# TODO\n",
    "distinctDF = purchasesDF.FILL_IN\n",
    "display(distinctDF)"
   ]
  },
  {
   "cell_type": "markdown",
   "metadata": {
    "application/vnd.databricks.v1+cell": {
     "cellMetadata": {},
     "inputWidgets": {},
     "nuid": "ee2bbf95-e921-4603-a95a-4731fee56feb",
     "showTitle": false,
     "title": ""
    }
   },
   "source": [
    "### 4. Drop unneeded column\n",
    "Since there's only one event type, drop **`event_name`** from **`purchasesDF`**."
   ]
  },
  {
   "cell_type": "code",
   "execution_count": 0,
   "metadata": {
    "application/vnd.databricks.v1+cell": {
     "cellMetadata": {},
     "inputWidgets": {},
     "nuid": "b3e9ed47-9417-4d76-a273-d94546b3d18c",
     "showTitle": false,
     "title": ""
    }
   },
   "outputs": [],
   "source": [
    "# TODO\n",
    "finalDF = purchasesDF.FILL_IN\n",
    "display(finalDF)"
   ]
  },
  {
   "cell_type": "markdown",
   "metadata": {
    "application/vnd.databricks.v1+cell": {
     "cellMetadata": {},
     "inputWidgets": {},
     "nuid": "6a0a7396-5291-4a79-8340-66fe7f298987",
     "showTitle": false,
     "title": ""
    }
   },
   "source": [
    "**CHECK YOUR WORK**"
   ]
  },
  {
   "cell_type": "code",
   "execution_count": 0,
   "metadata": {
    "application/vnd.databricks.v1+cell": {
     "cellMetadata": {},
     "inputWidgets": {},
     "nuid": "2585fbeb-fe20-4e36-b19e-4e039f955498",
     "showTitle": false,
     "title": ""
    }
   },
   "outputs": [],
   "source": [
    "expected_columns = {\"device\", \"ecommerce\", \"event_previous_timestamp\", \"event_timestamp\",\n",
    "                    \"geo\", \"items\", \"revenue\", \"traffic_source\",\n",
    "                    \"user_first_touch_timestamp\", \"user_id\"}\n",
    "assert(set(finalDF.columns) == expected_columns)"
   ]
  },
  {
   "cell_type": "markdown",
   "metadata": {
    "application/vnd.databricks.v1+cell": {
     "cellMetadata": {},
     "inputWidgets": {},
     "nuid": "cb675f29-44ff-4a76-be5a-215cfdca41aa",
     "showTitle": false,
     "title": ""
    }
   },
   "source": [
    "### 5. Chain all the steps above excluding step 3"
   ]
  },
  {
   "cell_type": "code",
   "execution_count": 0,
   "metadata": {
    "application/vnd.databricks.v1+cell": {
     "cellMetadata": {},
     "inputWidgets": {},
     "nuid": "d7e1f274-1b0b-446f-a4f2-213348e8a8ac",
     "showTitle": false,
     "title": ""
    }
   },
   "outputs": [],
   "source": [
    "# TODO\n",
    "finalDF = (eventsDF\n",
    "  .FILL_IN\n",
    ")\n",
    "\n",
    "display(finalDF)"
   ]
  },
  {
   "cell_type": "markdown",
   "metadata": {
    "application/vnd.databricks.v1+cell": {
     "cellMetadata": {},
     "inputWidgets": {},
     "nuid": "2378ffe5-a940-43b7-be82-8255129ecb9c",
     "showTitle": false,
     "title": ""
    }
   },
   "source": [
    "**CHECK YOUR WORK**"
   ]
  },
  {
   "cell_type": "code",
   "execution_count": 0,
   "metadata": {
    "application/vnd.databricks.v1+cell": {
     "cellMetadata": {},
     "inputWidgets": {},
     "nuid": "9251138f-725a-4411-ad0a-0438ed0af44d",
     "showTitle": false,
     "title": ""
    }
   },
   "outputs": [],
   "source": [
    "assert(finalDF.count() == 180678)"
   ]
  },
  {
   "cell_type": "code",
   "execution_count": 0,
   "metadata": {
    "application/vnd.databricks.v1+cell": {
     "cellMetadata": {},
     "inputWidgets": {},
     "nuid": "9c01f5e0-3608-43d6-af33-cc6480c0785c",
     "showTitle": false,
     "title": ""
    }
   },
   "outputs": [],
   "source": [
    "expected_columns = {\"device\", \"ecommerce\", \"event_previous_timestamp\", \"event_timestamp\",\n",
    "                    \"geo\", \"items\", \"revenue\", \"traffic_source\",\n",
    "                    \"user_first_touch_timestamp\", \"user_id\"}\n",
    "assert(set(finalDF.columns) == expected_columns)"
   ]
  },
  {
   "cell_type": "markdown",
   "metadata": {
    "application/vnd.databricks.v1+cell": {
     "cellMetadata": {},
     "inputWidgets": {},
     "nuid": "eb12fd61-ba43-4408-9262-ca0efb4c809e",
     "showTitle": false,
     "title": ""
    }
   },
   "source": [
    "### Clean up classroom"
   ]
  },
  {
   "cell_type": "code",
   "execution_count": 0,
   "metadata": {
    "application/vnd.databricks.v1+cell": {
     "cellMetadata": {},
     "inputWidgets": {},
     "nuid": "04d91de7-51ce-41b9-83b7-817b6001e156",
     "showTitle": false,
     "title": ""
    }
   },
   "outputs": [],
   "source": [
    "%run ./Includes/Classroom-Cleanup"
   ]
  },
  {
   "cell_type": "markdown",
   "metadata": {
    "application/vnd.databricks.v1+cell": {
     "cellMetadata": {},
     "inputWidgets": {},
     "nuid": "2a785ec3-f4f7-40b3-b806-ae2433184700",
     "showTitle": false,
     "title": ""
    }
   },
   "source": [
    "-sandbox\n",
    "&copy; 2022 Databricks, Inc. All rights reserved.<br/>\n",
    "Apache, Apache Spark, Spark and the Spark logo are trademarks of the <a href=\"https://www.apache.org/\">Apache Software Foundation</a>.<br/>\n",
    "<br/>\n",
    "<a href=\"https://databricks.com/privacy-policy\">Privacy Policy</a> | <a href=\"https://databricks.com/terms-of-use\">Terms of Use</a> | <a href=\"https://help.databricks.com/\">Support</a>"
   ]
  }
 ],
 "metadata": {
  "application/vnd.databricks.v1+notebook": {
   "dashboards": [],
   "language": "python",
   "notebookMetadata": {
    "pythonIndentUnit": 2
   },
   "notebookName": "ASP 1.5 - DataFrame & Column",
   "widgets": {}
  }
 },
 "nbformat": 4,
 "nbformat_minor": 0
}
