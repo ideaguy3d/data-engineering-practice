{
 "cells": [
  {
   "cell_type": "markdown",
   "source": [
    "# Stream Concepts video"
   ],
   "metadata": {
    "collapsed": false
   }
  },
  {
   "cell_type": "code",
   "execution_count": 1,
   "outputs": [],
   "source": [
    "# this doesn't resize the image :(\n",
    "# [<img alt=\"Stream Concepts\" src=\"img/stream%20processing%20use%20cases.png\" width=\"300px\" height=\"200px\"/>]"
   ],
   "metadata": {
    "collapsed": false
   }
  },
  {
   "cell_type": "markdown",
   "source": [
    "\n",
    "## Structured Streaming\n",
    "\n",
    "- 6m27s ish: processing data in batch allows for vastly higher data throughput\n",
    "- 14m45s ish: a continuous application is an end-to-end application that reacts to data in real-time\n",
    "    - by combining a number of tools such a batch jobs, stream jobs, joins between streaming & offline data\n",
    "    - and interactive ad-hoc queries\n",
    "- 15m12s ish: we can use structured streaming to update a table that users query interactively with SparkSQL\n",
    "    - serve a ML model trained w/MLlib or join streams with offline data\n",
    "- 17m55s ish: \"Sinks\" specify the destination for the result set of a stream.\n",
    "- 20m35s ish: Triggers define when data is output, that is when structured streaming should check for new\n",
    "    - input data and update its' results\n",
    "- 20m10s ish: he starts to talk about End-to-end fault tolerance\n",
    "    - checkpointing and write-ahead logs\n",
    "    - Idempotent sinks\n",
    "    - re-playable data sources\n",
    "\n",
    "//"
   ],
   "metadata": {
    "collapsed": false
   }
  },
  {
   "cell_type": "code",
   "execution_count": null,
   "outputs": [],
   "source": [],
   "metadata": {
    "collapsed": false
   }
  }
 ],
 "metadata": {
  "kernelspec": {
   "display_name": "Python 3",
   "language": "python",
   "name": "python3"
  },
  "language_info": {
   "codemirror_mode": {
    "name": "ipython",
    "version": 2
   },
   "file_extension": ".py",
   "mimetype": "text/x-python",
   "name": "python",
   "nbconvert_exporter": "python",
   "pygments_lexer": "ipython2",
   "version": "2.7.6"
  }
 },
 "nbformat": 4,
 "nbformat_minor": 0
}
