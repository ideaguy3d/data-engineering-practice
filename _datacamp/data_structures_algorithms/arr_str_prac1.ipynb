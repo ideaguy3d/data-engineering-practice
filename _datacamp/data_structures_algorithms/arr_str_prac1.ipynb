{
 "cells": [
  {
   "cell_type": "code",
   "execution_count": null,
   "id": "initial_id",
   "metadata": {
    "collapsed": true
   },
   "outputs": [],
   "source": []
  },
  {
   "cell_type": "code",
   "outputs": [
    {
     "data": {
      "text/plain": "False"
     },
     "execution_count": 2,
     "metadata": {},
     "output_type": "execute_result"
    }
   ],
   "source": [
    "# s = 'racecar'\n",
    "s = 'hello'\n",
    "def palindrome(s):\n",
    "    left = 0\n",
    "    right = len(s)-1\n",
    "    while left < right:\n",
    "        if s[left] != s[right]:\n",
    "            return False \n",
    "        left += 1\n",
    "        right -= 1 \n",
    "        \n",
    "    return True \n",
    "\n",
    "palindrome(s)"
   ],
   "metadata": {
    "collapsed": false,
    "ExecuteTime": {
     "end_time": "2024-08-31T05:11:07.637479Z",
     "start_time": "2024-08-31T05:11:07.630301Z"
    }
   },
   "id": "c90b4cc700aa445c",
   "execution_count": 2
  },
  {
   "cell_type": "markdown",
   "source": [
    "# sum2 "
   ],
   "metadata": {
    "collapsed": false
   },
   "id": "55ea38bb5c57c139"
  },
  {
   "cell_type": "code",
   "outputs": [
    {
     "name": "stdout",
     "output_type": "stream",
     "text": [
      "16\n",
      "15\n",
      "10\n",
      "1 9\n"
     ]
    },
    {
     "data": {
      "text/plain": "True"
     },
     "execution_count": 9,
     "metadata": {},
     "output_type": "execute_result"
    }
   ],
   "source": [
    "def sum2(i, target):\n",
    "    left = 0\n",
    "    right = len(i) - 1\n",
    "    \n",
    "    while left < right:\n",
    "        s = i[left] + i[right]\n",
    "        print(s)\n",
    "        if s == target:\n",
    "            print(i[left], i[right])\n",
    "            return True\n",
    "        if s > target:\n",
    "            right -= 1\n",
    "        else:\n",
    "            left += 1\n",
    "    return False \n",
    "\n",
    "i = [1, 2, 4, 6, 8, 9, 14, 15]          \n",
    "t = 10\n",
    "sum2(i, t)"
   ],
   "metadata": {
    "collapsed": false,
    "ExecuteTime": {
     "end_time": "2024-08-31T19:30:08.964311Z",
     "start_time": "2024-08-31T19:30:08.955087Z"
    }
   },
   "id": "ff22e42042c9af86",
   "execution_count": 9
  },
  {
   "cell_type": "markdown",
   "source": [
    "# 2 array merge"
   ],
   "metadata": {
    "collapsed": false
   },
   "id": "4030248ac554dccd"
  },
  {
   "cell_type": "code",
   "outputs": [
    {
     "name": "stdout",
     "output_type": "stream",
     "text": [
      "1\n",
      "3\n",
      "4\n",
      "5\n",
      "6\n"
     ]
    },
    {
     "data": {
      "text/plain": "([1, 3, 4, 5, 6], 2, 3)"
     },
     "execution_count": 10,
     "metadata": {},
     "output_type": "execute_result"
    }
   ],
   "source": [
    "a1 = [1,4,7,20]\n",
    "a2 = [3,5,6]\n",
    "ans = []\n",
    "i = j = 0 \n",
    "\n",
    "while i < len(a1) and j < len(a2):\n",
    "    if a1[i] < a2[j]:\n",
    "        ans.append(a1[i])\n",
    "        print(a1[i])\n",
    "        i += 1\n",
    "    else:\n",
    "        ans.append(a2[j])\n",
    "        print(a2[j])\n",
    "        j += 1\n",
    "ans, i, j  "
   ],
   "metadata": {
    "collapsed": false,
    "ExecuteTime": {
     "end_time": "2024-08-31T19:30:48.131276Z",
     "start_time": "2024-08-31T19:30:48.123540Z"
    }
   },
   "id": "f2d431d9cd718fc4",
   "execution_count": 10
  },
  {
   "cell_type": "code",
   "outputs": [
    {
     "data": {
      "text/plain": "([1, 3, 4, 5, 6, 7, 20], 4, 3)"
     },
     "execution_count": 11,
     "metadata": {},
     "output_type": "execute_result"
    }
   ],
   "source": [
    "while i < len(a1):\n",
    "    ans.append(a1[i])\n",
    "    i += 1\n",
    "ans, i, j"
   ],
   "metadata": {
    "collapsed": false,
    "ExecuteTime": {
     "end_time": "2024-08-31T19:31:45.845078Z",
     "start_time": "2024-08-31T19:31:45.839278Z"
    }
   },
   "id": "78dc78e6be526137",
   "execution_count": 11
  },
  {
   "cell_type": "code",
   "outputs": [
    {
     "data": {
      "text/plain": "([1, 3, 4, 5, 6, 7, 20], 4, 3)"
     },
     "execution_count": 12,
     "metadata": {},
     "output_type": "execute_result"
    }
   ],
   "source": [
    "while j < len(a2):\n",
    "    ans.append(a2[j])\n",
    "    j += 1\n",
    "ans, i, j "
   ],
   "metadata": {
    "collapsed": false,
    "ExecuteTime": {
     "end_time": "2024-08-31T19:32:26.723694Z",
     "start_time": "2024-08-31T19:32:26.718513Z"
    }
   },
   "id": "a958f894b1a47150",
   "execution_count": 12
  },
  {
   "cell_type": "markdown",
   "source": [
    "# subsequence "
   ],
   "metadata": {
    "collapsed": false
   },
   "id": "45cd78d5125aa72d"
  },
  {
   "cell_type": "code",
   "outputs": [
    {
     "data": {
      "text/plain": "True"
     },
     "execution_count": 13,
     "metadata": {},
     "output_type": "execute_result"
    }
   ],
   "source": [
    "s = 'abc'\n",
    "t = 'adlfkfbwercwe'\n",
    "i = j = 0\n",
    "while i < len(s) and j < len(t):\n",
    "    if s[i] == t[j]:\n",
    "        i += 1\n",
    "    j += 1\n",
    "i == len(s)"
   ],
   "metadata": {
    "collapsed": false,
    "ExecuteTime": {
     "end_time": "2024-09-01T00:39:24.908292Z",
     "start_time": "2024-09-01T00:39:24.836650Z"
    }
   },
   "id": "57bb0a11438f5abf",
   "execution_count": 13
  },
  {
   "cell_type": "markdown",
   "source": [
    "# Sliding Window"
   ],
   "metadata": {
    "collapsed": false
   },
   "id": "3ab6462b7d4d7c57"
  },
  {
   "cell_type": "code",
   "outputs": [],
   "source": [
    "nums = [3, 1, 2, 7, 4, 2, 1, 1, 5]\n",
    "k = 8\n",
    "left = 0\n",
    "right = 0\n",
    "ans = 0\n",
    "for num in nums:\n",
    "    if nums[left] + nums[right] > k:\n",
    "        left += 1\n",
    "    ans = max(ans, left+right)\n",
    "    right += 1"
   ],
   "metadata": {
    "collapsed": false
   },
   "id": "98815f7b9f8d2073"
  },
  {
   "cell_type": "code",
   "outputs": [],
   "source": [],
   "metadata": {
    "collapsed": false
   },
   "id": "e7cbd1bc2bb50ceb"
  },
  {
   "cell_type": "code",
   "outputs": [],
   "source": [],
   "metadata": {
    "collapsed": false
   },
   "id": "10f199289b873f77"
  },
  {
   "cell_type": "code",
   "outputs": [],
   "source": [],
   "metadata": {
    "collapsed": false
   },
   "id": "85dfaa975a08490e"
  },
  {
   "cell_type": "code",
   "outputs": [],
   "source": [],
   "metadata": {
    "collapsed": false
   },
   "id": "972ad0226dac25a8"
  },
  {
   "cell_type": "code",
   "outputs": [],
   "source": [],
   "metadata": {
    "collapsed": false
   },
   "id": "eeadcc6f771270f8"
  }
 ],
 "metadata": {
  "kernelspec": {
   "display_name": "Python 3",
   "language": "python",
   "name": "python3"
  },
  "language_info": {
   "codemirror_mode": {
    "name": "ipython",
    "version": 2
   },
   "file_extension": ".py",
   "mimetype": "text/x-python",
   "name": "python",
   "nbconvert_exporter": "python",
   "pygments_lexer": "ipython2",
   "version": "2.7.6"
  }
 },
 "nbformat": 4,
 "nbformat_minor": 5
}
