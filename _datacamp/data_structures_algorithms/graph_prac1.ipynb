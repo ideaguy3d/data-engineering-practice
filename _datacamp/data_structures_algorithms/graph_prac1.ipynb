{
 "cells": [
  {
   "cell_type": "markdown",
   "source": [
    "# imports"
   ],
   "metadata": {
    "collapsed": false
   },
   "id": "ba578a7a0ab0cf90"
  },
  {
   "cell_type": "code",
   "execution_count": 5,
   "id": "initial_id",
   "metadata": {
    "collapsed": true,
    "ExecuteTime": {
     "end_time": "2024-08-31T12:33:30.062895Z",
     "start_time": "2024-08-31T12:33:30.056921Z"
    }
   },
   "outputs": [],
   "source": [
    "from queue import SimpleQueue as Que"
   ]
  },
  {
   "cell_type": "markdown",
   "source": [
    "## example graphs"
   ],
   "metadata": {
    "collapsed": false
   },
   "id": "20d924f0e8f4d18a"
  },
  {
   "cell_type": "code",
   "outputs": [],
   "source": [
    "g1 = {\n",
    "    '0' : ['1','2'],\n",
    "    '1' : ['0', '2', '3'],\n",
    "    '2' : ['0', '1', '4'],\n",
    "    '3' : ['1', '4'],\n",
    "    '4' : ['2', '3']\n",
    "}"
   ],
   "metadata": {
    "collapsed": false,
    "ExecuteTime": {
     "end_time": "2024-08-31T12:04:13.502324Z",
     "start_time": "2024-08-31T12:04:13.497217Z"
    }
   },
   "id": "6ce9b8f145f67b68",
   "execution_count": 2
  },
  {
   "cell_type": "markdown",
   "source": [
    "# 1st Tree"
   ],
   "metadata": {
    "collapsed": false
   },
   "id": "7c5e0f6da09a8da3"
  },
  {
   "cell_type": "code",
   "outputs": [],
   "source": [
    "class Tree:\n",
    "    def __init__(self):\n",
    "        pass "
   ],
   "metadata": {
    "collapsed": false
   },
   "id": "6bad4939b9bb5a7c"
  },
  {
   "cell_type": "markdown",
   "source": [
    "# 1st Graph"
   ],
   "metadata": {
    "collapsed": false
   },
   "id": "942d69ab3e50edd2"
  },
  {
   "cell_type": "code",
   "outputs": [],
   "source": [
    "class Graph:\n",
    "    def __init__(self):\n",
    "        self.vertices = {} \n",
    "    \n",
    "    def add_vertex(self, vertex):\n",
    "        self.vertices[vertex] = [] \n",
    "    \n",
    "    def add_edge(self, source_vert, target_vert, weight):\n",
    "        self.vertices[source_vert].append((target_vert, weight))     "
   ],
   "metadata": {
    "collapsed": false,
    "ExecuteTime": {
     "end_time": "2024-08-29T18:00:23.447317Z",
     "start_time": "2024-08-29T18:00:23.410791Z"
    }
   },
   "id": "5b7e374fc3106c6f",
   "execution_count": 7
  },
  {
   "cell_type": "code",
   "outputs": [],
   "source": [
    "def bfs(graph_to_search, source_vert, target_vert):\n",
    "    visited = []\n",
    "    q = Que()\n",
    "    visited.append(source_vert)\n",
    "    q.put(source_vert)\n",
    "\n",
    "    while not q.empty():\n",
    "        current_vert = q.get()\n",
    "        if current_vert == target_vert:\n",
    "            return True\n",
    "        for adjacent_vertex in graph_to_search[current_vert]:\n",
    "            if adjacent_vertex not in visited:\n",
    "                visited.append(adjacent_vertex)\n",
    "                q.put(adjacent_vertex)\n",
    "\n",
    "    return False"
   ],
   "metadata": {
    "collapsed": false
   },
   "id": "b748617608933fc9"
  },
  {
   "cell_type": "code",
   "outputs": [
    {
     "name": "stdout",
     "output_type": "stream",
     "text": [
      "2\n",
      "0\n",
      "1\n",
      "3\n",
      "4\n"
     ]
    }
   ],
   "source": [
    "def dfs(visited_vertices, graph_to_search, current_vert):\n",
    "    if current_vert not in visited_vertices:\n",
    "        print(current_vert)\n",
    "        visited_vertices.add(current_vert)\n",
    "        for vertex in graph_to_search[current_vert]: \n",
    "            dfs(visited_vertices, graph_to_search, vertex)\n",
    "\n",
    "dfs(set(), g1, '2')"
   ],
   "metadata": {
    "collapsed": false,
    "ExecuteTime": {
     "end_time": "2024-08-31T13:38:56.231543Z",
     "start_time": "2024-08-31T13:38:56.220139Z"
    }
   },
   "id": "436c69b383252c91",
   "execution_count": 17
  },
  {
   "cell_type": "code",
   "outputs": [
    {
     "name": "stdout",
     "output_type": "stream",
     "text": [
      "la [('sj', 300)]\n",
      "sf [('la', 400)]\n",
      "sj [('sf', 100), ('la', 300)]\n"
     ]
    }
   ],
   "source": [
    "graph = Graph()\n",
    "graph.add_vertex('la')\n",
    "graph.add_vertex('sf')\n",
    "graph.add_vertex('sj')\n",
    "graph.add_edge('la', 'sj', 300)\n",
    "graph.add_edge('sj', 'sf', 100)\n",
    "graph.add_edge('sf', 'la', 400)\n",
    "graph.add_edge('sj', 'la', 300)\n",
    "\n",
    "for city, vert in graph.vertices.items():\n",
    "    print(city, vert)"
   ],
   "metadata": {
    "collapsed": false,
    "ExecuteTime": {
     "end_time": "2024-08-29T18:12:15.323752Z",
     "start_time": "2024-08-29T18:12:15.290059Z"
    }
   },
   "id": "5cc9e79c8e561211",
   "execution_count": 11
  },
  {
   "cell_type": "markdown",
   "source": [
    "# 2nd Graph"
   ],
   "metadata": {
    "collapsed": false
   },
   "id": "a4a14376e7113f15"
  },
  {
   "cell_type": "code",
   "outputs": [
    {
     "data": {
      "text/plain": "{'0': ['1', '2'],\n '1': ['0', '2', '3'],\n '2': ['0', '1', '4'],\n '3': ['1', '4'],\n '4': ['2', '3']}"
     },
     "execution_count": 3,
     "metadata": {},
     "output_type": "execute_result"
    }
   ],
   "source": [
    "g1"
   ],
   "metadata": {
    "collapsed": false,
    "ExecuteTime": {
     "end_time": "2024-08-31T12:18:01.474883Z",
     "start_time": "2024-08-31T12:18:01.457112Z"
    }
   },
   "id": "8c74169cba8f8a6b",
   "execution_count": 3
  },
  {
   "cell_type": "code",
   "outputs": [
    {
     "data": {
      "text/plain": "True"
     },
     "execution_count": 16,
     "metadata": {},
     "output_type": "execute_result"
    }
   ],
   "source": [
    "def bfs(graph_to_search, source_vert, target_vert):\n",
    "    q = Que()\n",
    "    visited_vertices = set()\n",
    "    q.put(source_vert)\n",
    "    visited_vertices.add(source_vert)\n",
    "    \n",
    "    while not q.empty():\n",
    "        current_vertex = q.get()\n",
    "        if current_vertex == target_vert:\n",
    "            return True \n",
    "        for vertex in graph_to_search[current_vertex]:\n",
    "            if vertex not in visited_vertices:\n",
    "                q.put(vertex)\n",
    "                visited_vertices.add(vertex)\n",
    "            \n",
    "    return False \n",
    "\n",
    "bfs(g1, '0', '4')"
   ],
   "metadata": {
    "collapsed": false,
    "ExecuteTime": {
     "end_time": "2024-08-31T13:36:01.750712Z",
     "start_time": "2024-08-31T13:36:01.744687Z"
    }
   },
   "id": "121dc1a7cb5ce43d",
   "execution_count": 16
  },
  {
   "cell_type": "code",
   "outputs": [
    {
     "data": {
      "text/plain": "3"
     },
     "execution_count": 12,
     "metadata": {},
     "output_type": "execute_result"
    }
   ],
   "source": [
    "que = Que()\n",
    "que.put('a')\n",
    "que.qsize()\n",
    "que.put('b')\n",
    "que.put('c')\n",
    "que.qsize()"
   ],
   "metadata": {
    "collapsed": false,
    "ExecuteTime": {
     "end_time": "2024-08-31T13:34:17.438741Z",
     "start_time": "2024-08-31T13:34:17.433328Z"
    }
   },
   "id": "3538afa578497ac1",
   "execution_count": 12
  },
  {
   "cell_type": "code",
   "outputs": [
    {
     "name": "stdout",
     "output_type": "stream",
     "text": [
      "2 a\n",
      "1 b\n"
     ]
    }
   ],
   "source": [
    "x = que.get()\n",
    "print(que.qsize(), x)\n",
    "y = que.get()\n",
    "print(que.qsize(), y)"
   ],
   "metadata": {
    "collapsed": false,
    "ExecuteTime": {
     "end_time": "2024-08-31T13:35:13.781046Z",
     "start_time": "2024-08-31T13:35:13.777792Z"
    }
   },
   "id": "9e837b8b2f769522",
   "execution_count": 13
  },
  {
   "cell_type": "code",
   "outputs": [],
   "source": [],
   "metadata": {
    "collapsed": false
   },
   "id": "cecd9d4f643facc5"
  },
  {
   "cell_type": "code",
   "outputs": [],
   "source": [],
   "metadata": {
    "collapsed": false
   },
   "id": "f3597a2f39efb1c7"
  }
 ],
 "metadata": {
  "kernelspec": {
   "display_name": "Python 3",
   "language": "python",
   "name": "python3"
  },
  "language_info": {
   "codemirror_mode": {
    "name": "ipython",
    "version": 2
   },
   "file_extension": ".py",
   "mimetype": "text/x-python",
   "name": "python",
   "nbconvert_exporter": "python",
   "pygments_lexer": "ipython2",
   "version": "2.7.6"
  }
 },
 "nbformat": 4,
 "nbformat_minor": 5
}
