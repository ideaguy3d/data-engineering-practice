{
 "cells": [
  {
   "cell_type": "code",
   "execution_count": 1,
   "metadata": {
    "collapsed": true
   },
   "outputs": [],
   "source": [
    "\"\"\"\n",
    "\n",
    "                        ~~~~ Hypothesis Testing ~~~~\n",
    "                t-tests, proportion tests, chi-square tests\n",
    "\n",
    "1. The Basics of Hypothesis Testing\n",
    " - sampling means, statistical significance, z-scores, p-values, proportion sample\n",
    " - left/right/two tail, confidence intervals, A/B tests, Type I & II errors\n",
    "\n",
    "2. Two-sample and ANOVA tests\n",
    " - hypothesis testing workflow, t-tests, t-stats, t-distribution, paired t-tests\n",
    " - analysis of variables tests, ttest(), pairwise t-tests\n",
    "\n",
    "3. Proportion Tests\n",
    " - one sample proportion tests, two sample proportion tests, proportions_ztest()\n",
    " - chi square tests, chi square distribution, chi square goodness of fit tests\n",
    "\n",
    "4. Non-Parametric Tests\n",
    " - Wilcoxon signed-rank test, non parametric anova tests, unpaired t-tests\n",
    " - Wilcoxon Mann Whitney test, Kruskal Wallis test\n",
    "\n",
    "5. ANOVA tests vs Chi-square 'tests of independence'\n",
    " - ANOVA extends t-tests to more than 2 groups,\n",
    "    Chi-square extends proportions tests to more than 2 groups\n",
    "\n",
    "\n",
    "\"\"\"\n",
    "\n",
    "import pandas\n",
    "import pingouin as pin\n",
    "import numpy as np\n",
    "from scipy.stats import (\n",
    "    iqr, uniform, binom, norm, poisson, expon,\n",
    "    t,\n",
    "    chisquare,  # for goodness of fit\n",
    "    rankdata\n",
    ")\n",
    "import matplotlib.pyplot as plt\n",
    "import seaborn as sns\n",
    "from statsmodels.stats.proportion import proportions_ztest\n",
    "\n",
    "data_folder = '../../data'\n",
    "# types: A = super center, B = discount store, C = neighborhood market\n",
    "df_walmart = pandas.read_csv(\n",
    "    f'{data_folder}/walmart_sales_subset.csv', index_col=0)\n",
    "df_homeless = pandas.read_csv(f'{data_folder}/homeless.csv', index_col=0)\n",
    "df_amir = pandas.read_csv(f'{data_folder}/amir_deals.csv', index_col=0)\n",
    "# simplify df_amir to just 100 observations\n",
    "df_amir = pandas.DataFrame(df_amir[:100])\n",
    "df_mph = pandas.read_csv(f'{data_folder}/mpg.csv')\n",
    "df_stack_overflow = pandas.read_feather(f'{data_folder}/stack_overflow.feather')"
   ]
  },
  {
   "cell_type": "code",
   "execution_count": 2,
   "outputs": [
    {
     "name": "stdout",
     "output_type": "stream",
     "text": [
      "<class 'pandas.core.frame.DataFrame'>\n",
      "RangeIndex: 2261 entries, 0 to 2260\n",
      "Data columns (total 63 columns):\n",
      " #   Column                             Non-Null Count  Dtype   \n",
      "---  ------                             --------------  -----   \n",
      " 0   respondent                         2261 non-null   float64 \n",
      " 1   main_branch                        2261 non-null   object  \n",
      " 2   hobbyist                           2261 non-null   object  \n",
      " 3   age                                2261 non-null   float64 \n",
      " 4   age_1st_code                       2261 non-null   float64 \n",
      " 5   age_first_code_cut                 2261 non-null   object  \n",
      " 6   comp_freq                          2261 non-null   object  \n",
      " 7   comp_total                         2261 non-null   float64 \n",
      " 8   converted_comp                     2261 non-null   float64 \n",
      " 9   country                            2261 non-null   object  \n",
      " 10  currency_desc                      2261 non-null   object  \n",
      " 11  currency_symbol                    2261 non-null   object  \n",
      " 12  database_desire_next_year          1687 non-null   object  \n",
      " 13  database_worked_with               1934 non-null   object  \n",
      " 14  dev_type                           2261 non-null   object  \n",
      " 15  ed_level                           2246 non-null   object  \n",
      " 16  employment                         2261 non-null   object  \n",
      " 17  ethnicity                          2092 non-null   object  \n",
      " 18  gender                             2228 non-null   object  \n",
      " 19  job_factors                        2233 non-null   object  \n",
      " 20  job_sat                            2261 non-null   category\n",
      " 21  job_seek                           2261 non-null   object  \n",
      " 22  language_desire_next_year          2160 non-null   object  \n",
      " 23  language_worked_with               2254 non-null   object  \n",
      " 24  misc_tech_desire_next_year         1954 non-null   object  \n",
      " 25  misc_tech_worked_with              1964 non-null   object  \n",
      " 26  new_collab_tools_desire_next_year  2023 non-null   object  \n",
      " 27  new_collab_tools_worked_with       2192 non-null   object  \n",
      " 28  new_dev_ops                        2245 non-null   object  \n",
      " 29  new_dev_ops_impt                   2183 non-null   object  \n",
      " 30  new_ed_impt                        2246 non-null   object  \n",
      " 31  new_job_hunt                       2191 non-null   object  \n",
      " 32  new_job_hunt_research              2149 non-null   object  \n",
      " 33  new_learn                          2223 non-null   object  \n",
      " 34  new_off_topic                      2155 non-null   object  \n",
      " 35  new_onboard_good                   2244 non-null   object  \n",
      " 36  new_other_comms                    2257 non-null   object  \n",
      " 37  new_overtime                       2255 non-null   object  \n",
      " 38  new_purchase_research              1480 non-null   object  \n",
      " 39  purple_link                        2261 non-null   object  \n",
      " 40  newso_sites                        2257 non-null   object  \n",
      " 41  new_stuck                          2232 non-null   object  \n",
      " 42  op_sys                             2245 non-null   object  \n",
      " 43  org_size                           2223 non-null   object  \n",
      " 44  platform_desire_next_year          2065 non-null   object  \n",
      " 45  platform_worked_with               2170 non-null   object  \n",
      " 46  purchase_what                      2053 non-null   object  \n",
      " 47  sexuality                          2054 non-null   object  \n",
      " 48  so_account                         2247 non-null   object  \n",
      " 49  so_comm                            2248 non-null   object  \n",
      " 50  so_part_freq                       1884 non-null   object  \n",
      " 51  so_visit_freq                      2248 non-null   object  \n",
      " 52  survey_ease                        2248 non-null   object  \n",
      " 53  survey_length                      2251 non-null   object  \n",
      " 54  trans                              2199 non-null   object  \n",
      " 55  undergrad_major                    2151 non-null   object  \n",
      " 56  webframe_desire_next_year          1336 non-null   object  \n",
      " 57  webframe_worked_with               1452 non-null   object  \n",
      " 58  welcome_change                     2199 non-null   object  \n",
      " 59  work_week_hrs                      2219 non-null   float64 \n",
      " 60  years_code                         2261 non-null   float64 \n",
      " 61  years_code_pro                     2261 non-null   float64 \n",
      " 62  age_cat                            2261 non-null   object  \n",
      "dtypes: category(1), float64(8), object(54)\n",
      "memory usage: 1.1+ MB\n"
     ]
    },
    {
     "data": {
      "text/plain": "None"
     },
     "metadata": {},
     "output_type": "display_data"
    },
    {
     "data": {
      "text/plain": "   respondent                                        main_branch hobbyist  \\\n0        36.0  I am not primarily a developer, but I write co...      Yes   \n1        47.0                     I am a developer by profession      Yes   \n2        69.0                     I am a developer by profession      Yes   \n3       125.0  I am not primarily a developer, but I write co...      Yes   \n4       147.0  I am not primarily a developer, but I write co...       No   \n\n    age  age_1st_code age_first_code_cut comp_freq  comp_total  \\\n0  34.0          30.0              adult    Yearly     60000.0   \n1  53.0          10.0              child    Yearly     58000.0   \n2  25.0          12.0              child    Yearly    550000.0   \n3  41.0          30.0              adult   Monthly    200000.0   \n4  28.0          15.0              adult    Yearly     50000.0   \n\n   converted_comp         country  ...          survey_length trans  \\\n0         77556.0  United Kingdom  ...  Appropriate in length    No   \n1         74970.0  United Kingdom  ...  Appropriate in length    No   \n2        594539.0          France  ...              Too short    No   \n3       2000000.0   United States  ...  Appropriate in length    No   \n4         37816.0          Canada  ...  Appropriate in length    No   \n\n                                     undergrad_major  \\\n0  Computer science, computer engineering, or sof...   \n1  A natural science (such as biology, chemistry,...   \n2  Computer science, computer engineering, or sof...   \n3                                               None   \n4  Another engineering discipline (such as civil,...   \n\n  webframe_desire_next_year webframe_worked_with  \\\n0          Express;React.js     Express;React.js   \n1              Flask;Spring         Flask;Spring   \n2              Django;Flask         Django;Flask   \n3                      None                 None   \n4                      None        Express;Flask   \n\n                            welcome_change work_week_hrs years_code  \\\n0  Just as welcome now as I felt last year          40.0        4.0   \n1  Just as welcome now as I felt last year          40.0       43.0   \n2  Just as welcome now as I felt last year          40.0       13.0   \n3  Just as welcome now as I felt last year          40.0       11.0   \n4  Just as welcome now as I felt last year          40.0        5.0   \n\n  years_code_pro      age_cat  \n0            3.0  At least 30  \n1           28.0  At least 30  \n2            3.0     Under 30  \n3           11.0  At least 30  \n4            3.0     Under 30  \n\n[5 rows x 63 columns]",
      "text/html": "<div>\n<style scoped>\n    .dataframe tbody tr th:only-of-type {\n        vertical-align: middle;\n    }\n\n    .dataframe tbody tr th {\n        vertical-align: top;\n    }\n\n    .dataframe thead th {\n        text-align: right;\n    }\n</style>\n<table border=\"1\" class=\"dataframe\">\n  <thead>\n    <tr style=\"text-align: right;\">\n      <th></th>\n      <th>respondent</th>\n      <th>main_branch</th>\n      <th>hobbyist</th>\n      <th>age</th>\n      <th>age_1st_code</th>\n      <th>age_first_code_cut</th>\n      <th>comp_freq</th>\n      <th>comp_total</th>\n      <th>converted_comp</th>\n      <th>country</th>\n      <th>...</th>\n      <th>survey_length</th>\n      <th>trans</th>\n      <th>undergrad_major</th>\n      <th>webframe_desire_next_year</th>\n      <th>webframe_worked_with</th>\n      <th>welcome_change</th>\n      <th>work_week_hrs</th>\n      <th>years_code</th>\n      <th>years_code_pro</th>\n      <th>age_cat</th>\n    </tr>\n  </thead>\n  <tbody>\n    <tr>\n      <th>0</th>\n      <td>36.0</td>\n      <td>I am not primarily a developer, but I write co...</td>\n      <td>Yes</td>\n      <td>34.0</td>\n      <td>30.0</td>\n      <td>adult</td>\n      <td>Yearly</td>\n      <td>60000.0</td>\n      <td>77556.0</td>\n      <td>United Kingdom</td>\n      <td>...</td>\n      <td>Appropriate in length</td>\n      <td>No</td>\n      <td>Computer science, computer engineering, or sof...</td>\n      <td>Express;React.js</td>\n      <td>Express;React.js</td>\n      <td>Just as welcome now as I felt last year</td>\n      <td>40.0</td>\n      <td>4.0</td>\n      <td>3.0</td>\n      <td>At least 30</td>\n    </tr>\n    <tr>\n      <th>1</th>\n      <td>47.0</td>\n      <td>I am a developer by profession</td>\n      <td>Yes</td>\n      <td>53.0</td>\n      <td>10.0</td>\n      <td>child</td>\n      <td>Yearly</td>\n      <td>58000.0</td>\n      <td>74970.0</td>\n      <td>United Kingdom</td>\n      <td>...</td>\n      <td>Appropriate in length</td>\n      <td>No</td>\n      <td>A natural science (such as biology, chemistry,...</td>\n      <td>Flask;Spring</td>\n      <td>Flask;Spring</td>\n      <td>Just as welcome now as I felt last year</td>\n      <td>40.0</td>\n      <td>43.0</td>\n      <td>28.0</td>\n      <td>At least 30</td>\n    </tr>\n    <tr>\n      <th>2</th>\n      <td>69.0</td>\n      <td>I am a developer by profession</td>\n      <td>Yes</td>\n      <td>25.0</td>\n      <td>12.0</td>\n      <td>child</td>\n      <td>Yearly</td>\n      <td>550000.0</td>\n      <td>594539.0</td>\n      <td>France</td>\n      <td>...</td>\n      <td>Too short</td>\n      <td>No</td>\n      <td>Computer science, computer engineering, or sof...</td>\n      <td>Django;Flask</td>\n      <td>Django;Flask</td>\n      <td>Just as welcome now as I felt last year</td>\n      <td>40.0</td>\n      <td>13.0</td>\n      <td>3.0</td>\n      <td>Under 30</td>\n    </tr>\n    <tr>\n      <th>3</th>\n      <td>125.0</td>\n      <td>I am not primarily a developer, but I write co...</td>\n      <td>Yes</td>\n      <td>41.0</td>\n      <td>30.0</td>\n      <td>adult</td>\n      <td>Monthly</td>\n      <td>200000.0</td>\n      <td>2000000.0</td>\n      <td>United States</td>\n      <td>...</td>\n      <td>Appropriate in length</td>\n      <td>No</td>\n      <td>None</td>\n      <td>None</td>\n      <td>None</td>\n      <td>Just as welcome now as I felt last year</td>\n      <td>40.0</td>\n      <td>11.0</td>\n      <td>11.0</td>\n      <td>At least 30</td>\n    </tr>\n    <tr>\n      <th>4</th>\n      <td>147.0</td>\n      <td>I am not primarily a developer, but I write co...</td>\n      <td>No</td>\n      <td>28.0</td>\n      <td>15.0</td>\n      <td>adult</td>\n      <td>Yearly</td>\n      <td>50000.0</td>\n      <td>37816.0</td>\n      <td>Canada</td>\n      <td>...</td>\n      <td>Appropriate in length</td>\n      <td>No</td>\n      <td>Another engineering discipline (such as civil,...</td>\n      <td>None</td>\n      <td>Express;Flask</td>\n      <td>Just as welcome now as I felt last year</td>\n      <td>40.0</td>\n      <td>5.0</td>\n      <td>3.0</td>\n      <td>Under 30</td>\n    </tr>\n  </tbody>\n</table>\n<p>5 rows × 63 columns</p>\n</div>"
     },
     "metadata": {},
     "output_type": "display_data"
    },
    {
     "data": {
      "text/plain": "2261"
     },
     "execution_count": 2,
     "metadata": {},
     "output_type": "execute_result"
    }
   ],
   "source": [
    "display(df_stack_overflow.info())\n",
    "display(df_stack_overflow.head())\n",
    "len(df_stack_overflow)"
   ],
   "metadata": {
    "collapsed": false
   }
  },
  {
   "cell_type": "markdown",
   "source": [
    "# Hypothesis Tests & z-scores"
   ],
   "metadata": {
    "collapsed": false
   }
  },
  {
   "cell_type": "code",
   "execution_count": 3,
   "outputs": [
    {
     "data": {
      "text/plain": "1.7101640671648524"
     },
     "metadata": {},
     "output_type": "display_data"
    },
    {
     "data": {
      "text/plain": "0.9563822308560407"
     },
     "metadata": {},
     "output_type": "display_data"
    },
    {
     "data": {
      "text/plain": "0.04361776914395932"
     },
     "metadata": {},
     "output_type": "display_data"
    },
    {
     "data": {
      "text/plain": "<Figure size 360x360 with 1 Axes>",
      "image/png": "[encoded data removed]"
     },
     "metadata": {},
     "output_type": "display_data"
    }
   ],
   "source": [
    "'''\n",
    "Hypothesis: The mean salary of data scientists is 110k\n",
    " - point estimate (aka sample stat)\n",
    " - standard error is the standard deviation of the bootstrap.dist\n",
    " - z score = (orig_stat - hypothetical_stat) / standard_error\n",
    "  -- the z score is the \"standardized value\"\n",
    " - The 'probability density function' is basically The normal distribution\n",
    "  -- This is referred to as the z-distribution (which is related to the z-score)\n",
    "'''\n",
    "mean_salary = df_stack_overflow['converted_comp'].mean()\n",
    "hypothetical_salary = 110000\n",
    "stack_overflow_bootstrap_dist = []\n",
    "for i in range(5000):\n",
    "    stack_overflow_bootstrap_dist.append(\n",
    "        np.mean(df_stack_overflow.sample(frac=1, replace=True)['converted_comp']))\n",
    "\n",
    "standard_error = np.std(stack_overflow_bootstrap_dist, ddof=1)\n",
    "z_score = (mean_salary - hypothetical_salary) / standard_error\n",
    "# left-tailed alternative hypothesis (data.sci make less than average)\n",
    "p_val_left = norm.cdf(z_score, loc=0, scale=1)\n",
    "# right-tailed alt.hypo (data.sci make more than average)\n",
    "p_val_right = 1 - norm.cdf(z_score, loc=0, scale=1)\n",
    "\n",
    "# output\n",
    "display(z_score)\n",
    "display(p_val_left)\n",
    "display(p_val_right)\n",
    "sns.displot(data=stack_overflow_bootstrap_dist)\n",
    "plt.show()"
   ],
   "metadata": {
    "collapsed": false
   }
  },
  {
   "cell_type": "markdown",
   "source": [
    "# Two-Sample & ANOVA tests"
   ],
   "metadata": {
    "collapsed": false
   }
  },
  {
   "cell_type": "code",
   "execution_count": 4,
   "outputs": [
    {
     "data": {
      "text/plain": "age_first_code_cut\nadult    111313.311047\nchild    132419.570621\nName: converted_comp, dtype: float64"
     },
     "metadata": {},
     "output_type": "display_data"
    },
    {
     "data": {
      "text/plain": "age_first_code_cut\nadult    271546.521729\nchild    255585.240115\nName: converted_comp, dtype: float64"
     },
     "metadata": {},
     "output_type": "display_data"
    },
    {
     "data": {
      "text/plain": "age_first_code_cut\nadult    1376\nchild     885\nName: converted_comp, dtype: int64"
     },
     "metadata": {},
     "output_type": "display_data"
    },
    {
     "data": {
      "text/plain": "1.8699313316221844"
     },
     "execution_count": 4,
     "metadata": {},
     "output_type": "execute_result"
    }
   ],
   "source": [
    "'''\n",
    "Performing t-tests\n",
    " - t-stat\n",
    "Calculating p-values from t-stats\n",
    " - t-distribution\n",
    "Paired t-tests\n",
    " - ttest()\n",
    "ANOVA tests\n",
    " - pairwise t-tests\n",
    "\n",
    "Z Score:\n",
    " z = (sample_stat - population_estimate_stat) / standard_error\n",
    "\n",
    "T Stat:\n",
    " std_err_diff = \"square root of (SD1_squared / s1_size) + (SD2_squared / s2_size)\"\n",
    " t = (\"difference of sample stats\" - \"difference of population estimate stats\"?) / std_err_diff\n",
    "'''\n",
    "\n",
    "# getting the t-stat of the null hypothesis from the sample\n",
    "x_mean = df_stack_overflow.groupby('age_first_code_cut')['converted_comp'].mean()\n",
    "x_sd = df_stack_overflow.groupby('age_first_code_cut')['converted_comp'].std()\n",
    "x_count = df_stack_overflow.groupby('age_first_code_cut')['converted_comp'].count()\n",
    "display(x_mean, x_sd, x_count)\n",
    "numerator = (x_mean['child'] - x_mean['adult'])\n",
    "denominator = np.sqrt(\n",
    "    x_sd['child'] ** 2 / x_count['child'] + x_sd['adult'] ** 2 / x_count['adult'])\n",
    "t_stat = numerator / denominator\n",
    "t_stat"
   ],
   "metadata": {
    "collapsed": false
   }
  },
  {
   "cell_type": "code",
   "execution_count": 5,
   "outputs": [
    {
     "data": {
      "text/plain": "2259"
     },
     "metadata": {},
     "output_type": "display_data"
    },
    {
     "data": {
      "text/plain": "1.8699313316221844"
     },
     "metadata": {},
     "output_type": "display_data"
    },
    {
     "data": {
      "text/plain": "0.030811302165157595"
     },
     "metadata": {},
     "output_type": "display_data"
    }
   ],
   "source": [
    "alpha = 0.10\n",
    "deg_of_free = x_count['child'] + x_count['adult'] - 2\n",
    "# right-tail test\n",
    "p_val = 1 - t.cdf(t_stat, df=deg_of_free)\n",
    "display(deg_of_free, t_stat, p_val)"
   ],
   "metadata": {
    "collapsed": false
   }
  },
  {
   "cell_type": "code",
   "execution_count": 6,
   "outputs": [
    {
     "name": "stdout",
     "output_type": "stream",
     "text": [
      "Reject null hypothesis? True\n"
     ]
    }
   ],
   "source": [
    "print('Reject null hypothesis?', p_val <= alpha)"
   ],
   "metadata": {
    "collapsed": false
   }
  },
  {
   "cell_type": "code",
   "execution_count": 7,
   "outputs": [
    {
     "data": {
      "text/plain": "  Contrast                   A                      B  Paired  Parametric  \\\n0  job_sat  Slightly satisfied         Very satisfied   False        True   \n1  job_sat  Slightly satisfied                Neither   False        True   \n2  job_sat  Slightly satisfied      Very dissatisfied   False        True   \n3  job_sat  Slightly satisfied  Slightly dissatisfied   False        True   \n4  job_sat      Very satisfied                Neither   False        True   \n5  job_sat      Very satisfied      Very dissatisfied   False        True   \n6  job_sat      Very satisfied  Slightly dissatisfied   False        True   \n7  job_sat             Neither      Very dissatisfied   False        True   \n8  job_sat             Neither  Slightly dissatisfied   False        True   \n9  job_sat   Very dissatisfied  Slightly dissatisfied   False        True   \n\n          T          dof alternative     p-unc     BF10    hedges  \n0 -4.009935  1478.622799   two-sided  0.000064  158.564 -0.192931  \n1 -0.700752   258.204546   two-sided  0.484088    0.114 -0.068513  \n2 -1.243665   187.153329   two-sided  0.215179    0.208 -0.145624  \n3 -0.038264   569.926329   two-sided  0.969491    0.074 -0.002719  \n4  1.662901   328.326639   two-sided  0.097286    0.337  0.120115  \n5  0.747379   221.666205   two-sided  0.455627    0.126  0.063479  \n6  3.076222   821.303063   two-sided  0.002166     7.43  0.173247  \n7 -0.545948   321.165726   two-sided  0.585481    0.135 -0.058537  \n8  0.602209   367.730081   two-sided  0.547406    0.118  0.055707  \n9  1.129951   247.570187   two-sided  0.259590    0.197  0.119131  ",
      "text/html": "<div>\n<style scoped>\n    .dataframe tbody tr th:only-of-type {\n        vertical-align: middle;\n    }\n\n    .dataframe tbody tr th {\n        vertical-align: top;\n    }\n\n    .dataframe thead th {\n        text-align: right;\n    }\n</style>\n<table border=\"1\" class=\"dataframe\">\n  <thead>\n    <tr style=\"text-align: right;\">\n      <th></th>\n      <th>Contrast</th>\n      <th>A</th>\n      <th>B</th>\n      <th>Paired</th>\n      <th>Parametric</th>\n      <th>T</th>\n      <th>dof</th>\n      <th>alternative</th>\n      <th>p-unc</th>\n      <th>BF10</th>\n      <th>hedges</th>\n    </tr>\n  </thead>\n  <tbody>\n    <tr>\n      <th>0</th>\n      <td>job_sat</td>\n      <td>Slightly satisfied</td>\n      <td>Very satisfied</td>\n      <td>False</td>\n      <td>True</td>\n      <td>-4.009935</td>\n      <td>1478.622799</td>\n      <td>two-sided</td>\n      <td>0.000064</td>\n      <td>158.564</td>\n      <td>-0.192931</td>\n    </tr>\n    <tr>\n      <th>1</th>\n      <td>job_sat</td>\n      <td>Slightly satisfied</td>\n      <td>Neither</td>\n      <td>False</td>\n      <td>True</td>\n      <td>-0.700752</td>\n      <td>258.204546</td>\n      <td>two-sided</td>\n      <td>0.484088</td>\n      <td>0.114</td>\n      <td>-0.068513</td>\n    </tr>\n    <tr>\n      <th>2</th>\n      <td>job_sat</td>\n      <td>Slightly satisfied</td>\n      <td>Very dissatisfied</td>\n      <td>False</td>\n      <td>True</td>\n      <td>-1.243665</td>\n      <td>187.153329</td>\n      <td>two-sided</td>\n      <td>0.215179</td>\n      <td>0.208</td>\n      <td>-0.145624</td>\n    </tr>\n    <tr>\n      <th>3</th>\n      <td>job_sat</td>\n      <td>Slightly satisfied</td>\n      <td>Slightly dissatisfied</td>\n      <td>False</td>\n      <td>True</td>\n      <td>-0.038264</td>\n      <td>569.926329</td>\n      <td>two-sided</td>\n      <td>0.969491</td>\n      <td>0.074</td>\n      <td>-0.002719</td>\n    </tr>\n    <tr>\n      <th>4</th>\n      <td>job_sat</td>\n      <td>Very satisfied</td>\n      <td>Neither</td>\n      <td>False</td>\n      <td>True</td>\n      <td>1.662901</td>\n      <td>328.326639</td>\n      <td>two-sided</td>\n      <td>0.097286</td>\n      <td>0.337</td>\n      <td>0.120115</td>\n    </tr>\n    <tr>\n      <th>5</th>\n      <td>job_sat</td>\n      <td>Very satisfied</td>\n      <td>Very dissatisfied</td>\n      <td>False</td>\n      <td>True</td>\n      <td>0.747379</td>\n      <td>221.666205</td>\n      <td>two-sided</td>\n      <td>0.455627</td>\n      <td>0.126</td>\n      <td>0.063479</td>\n    </tr>\n    <tr>\n      <th>6</th>\n      <td>job_sat</td>\n      <td>Very satisfied</td>\n      <td>Slightly dissatisfied</td>\n      <td>False</td>\n      <td>True</td>\n      <td>3.076222</td>\n      <td>821.303063</td>\n      <td>two-sided</td>\n      <td>0.002166</td>\n      <td>7.43</td>\n      <td>0.173247</td>\n    </tr>\n    <tr>\n      <th>7</th>\n      <td>job_sat</td>\n      <td>Neither</td>\n      <td>Very dissatisfied</td>\n      <td>False</td>\n      <td>True</td>\n      <td>-0.545948</td>\n      <td>321.165726</td>\n      <td>two-sided</td>\n      <td>0.585481</td>\n      <td>0.135</td>\n      <td>-0.058537</td>\n    </tr>\n    <tr>\n      <th>8</th>\n      <td>job_sat</td>\n      <td>Neither</td>\n      <td>Slightly dissatisfied</td>\n      <td>False</td>\n      <td>True</td>\n      <td>0.602209</td>\n      <td>367.730081</td>\n      <td>two-sided</td>\n      <td>0.547406</td>\n      <td>0.118</td>\n      <td>0.055707</td>\n    </tr>\n    <tr>\n      <th>9</th>\n      <td>job_sat</td>\n      <td>Very dissatisfied</td>\n      <td>Slightly dissatisfied</td>\n      <td>False</td>\n      <td>True</td>\n      <td>1.129951</td>\n      <td>247.570187</td>\n      <td>two-sided</td>\n      <td>0.259590</td>\n      <td>0.197</td>\n      <td>0.119131</td>\n    </tr>\n  </tbody>\n</table>\n</div>"
     },
     "execution_count": 7,
     "metadata": {},
     "output_type": "execute_result"
    }
   ],
   "source": [
    "pin.pairwise_tests(\n",
    "    data=df_stack_overflow, dv='converted_comp', between='job_sat', padjust='none')"
   ],
   "metadata": {
    "collapsed": false
   }
  },
  {
   "cell_type": "code",
   "execution_count": 8,
   "outputs": [
    {
     "data": {
      "text/plain": "  Contrast                   A                      B  Paired  Parametric  \\\n0  job_sat  Slightly satisfied         Very satisfied   False        True   \n1  job_sat  Slightly satisfied                Neither   False        True   \n2  job_sat  Slightly satisfied      Very dissatisfied   False        True   \n3  job_sat  Slightly satisfied  Slightly dissatisfied   False        True   \n4  job_sat      Very satisfied                Neither   False        True   \n5  job_sat      Very satisfied      Very dissatisfied   False        True   \n6  job_sat      Very satisfied  Slightly dissatisfied   False        True   \n7  job_sat             Neither      Very dissatisfied   False        True   \n8  job_sat             Neither  Slightly dissatisfied   False        True   \n9  job_sat   Very dissatisfied  Slightly dissatisfied   False        True   \n\n          T          dof alternative     p-unc    p-corr p-adjust     BF10  \\\n0 -4.009935  1478.622799   two-sided  0.000064  0.000638     bonf  158.564   \n1 -0.700752   258.204546   two-sided  0.484088  1.000000     bonf    0.114   \n2 -1.243665   187.153329   two-sided  0.215179  1.000000     bonf    0.208   \n3 -0.038264   569.926329   two-sided  0.969491  1.000000     bonf    0.074   \n4  1.662901   328.326639   two-sided  0.097286  0.972864     bonf    0.337   \n5  0.747379   221.666205   two-sided  0.455627  1.000000     bonf    0.126   \n6  3.076222   821.303063   two-sided  0.002166  0.021659     bonf     7.43   \n7 -0.545948   321.165726   two-sided  0.585481  1.000000     bonf    0.135   \n8  0.602209   367.730081   two-sided  0.547406  1.000000     bonf    0.118   \n9  1.129951   247.570187   two-sided  0.259590  1.000000     bonf    0.197   \n\n     hedges  \n0 -0.192931  \n1 -0.068513  \n2 -0.145624  \n3 -0.002719  \n4  0.120115  \n5  0.063479  \n6  0.173247  \n7 -0.058537  \n8  0.055707  \n9  0.119131  ",
      "text/html": "<div>\n<style scoped>\n    .dataframe tbody tr th:only-of-type {\n        vertical-align: middle;\n    }\n\n    .dataframe tbody tr th {\n        vertical-align: top;\n    }\n\n    .dataframe thead th {\n        text-align: right;\n    }\n</style>\n<table border=\"1\" class=\"dataframe\">\n  <thead>\n    <tr style=\"text-align: right;\">\n      <th></th>\n      <th>Contrast</th>\n      <th>A</th>\n      <th>B</th>\n      <th>Paired</th>\n      <th>Parametric</th>\n      <th>T</th>\n      <th>dof</th>\n      <th>alternative</th>\n      <th>p-unc</th>\n      <th>p-corr</th>\n      <th>p-adjust</th>\n      <th>BF10</th>\n      <th>hedges</th>\n    </tr>\n  </thead>\n  <tbody>\n    <tr>\n      <th>0</th>\n      <td>job_sat</td>\n      <td>Slightly satisfied</td>\n      <td>Very satisfied</td>\n      <td>False</td>\n      <td>True</td>\n      <td>-4.009935</td>\n      <td>1478.622799</td>\n      <td>two-sided</td>\n      <td>0.000064</td>\n      <td>0.000638</td>\n      <td>bonf</td>\n      <td>158.564</td>\n      <td>-0.192931</td>\n    </tr>\n    <tr>\n      <th>1</th>\n      <td>job_sat</td>\n      <td>Slightly satisfied</td>\n      <td>Neither</td>\n      <td>False</td>\n      <td>True</td>\n      <td>-0.700752</td>\n      <td>258.204546</td>\n      <td>two-sided</td>\n      <td>0.484088</td>\n      <td>1.000000</td>\n      <td>bonf</td>\n      <td>0.114</td>\n      <td>-0.068513</td>\n    </tr>\n    <tr>\n      <th>2</th>\n      <td>job_sat</td>\n      <td>Slightly satisfied</td>\n      <td>Very dissatisfied</td>\n      <td>False</td>\n      <td>True</td>\n      <td>-1.243665</td>\n      <td>187.153329</td>\n      <td>two-sided</td>\n      <td>0.215179</td>\n      <td>1.000000</td>\n      <td>bonf</td>\n      <td>0.208</td>\n      <td>-0.145624</td>\n    </tr>\n    <tr>\n      <th>3</th>\n      <td>job_sat</td>\n      <td>Slightly satisfied</td>\n      <td>Slightly dissatisfied</td>\n      <td>False</td>\n      <td>True</td>\n      <td>-0.038264</td>\n      <td>569.926329</td>\n      <td>two-sided</td>\n      <td>0.969491</td>\n      <td>1.000000</td>\n      <td>bonf</td>\n      <td>0.074</td>\n      <td>-0.002719</td>\n    </tr>\n    <tr>\n      <th>4</th>\n      <td>job_sat</td>\n      <td>Very satisfied</td>\n      <td>Neither</td>\n      <td>False</td>\n      <td>True</td>\n      <td>1.662901</td>\n      <td>328.326639</td>\n      <td>two-sided</td>\n      <td>0.097286</td>\n      <td>0.972864</td>\n      <td>bonf</td>\n      <td>0.337</td>\n      <td>0.120115</td>\n    </tr>\n    <tr>\n      <th>5</th>\n      <td>job_sat</td>\n      <td>Very satisfied</td>\n      <td>Very dissatisfied</td>\n      <td>False</td>\n      <td>True</td>\n      <td>0.747379</td>\n      <td>221.666205</td>\n      <td>two-sided</td>\n      <td>0.455627</td>\n      <td>1.000000</td>\n      <td>bonf</td>\n      <td>0.126</td>\n      <td>0.063479</td>\n    </tr>\n    <tr>\n      <th>6</th>\n      <td>job_sat</td>\n      <td>Very satisfied</td>\n      <td>Slightly dissatisfied</td>\n      <td>False</td>\n      <td>True</td>\n      <td>3.076222</td>\n      <td>821.303063</td>\n      <td>two-sided</td>\n      <td>0.002166</td>\n      <td>0.021659</td>\n      <td>bonf</td>\n      <td>7.43</td>\n      <td>0.173247</td>\n    </tr>\n    <tr>\n      <th>7</th>\n      <td>job_sat</td>\n      <td>Neither</td>\n      <td>Very dissatisfied</td>\n      <td>False</td>\n      <td>True</td>\n      <td>-0.545948</td>\n      <td>321.165726</td>\n      <td>two-sided</td>\n      <td>0.585481</td>\n      <td>1.000000</td>\n      <td>bonf</td>\n      <td>0.135</td>\n      <td>-0.058537</td>\n    </tr>\n    <tr>\n      <th>8</th>\n      <td>job_sat</td>\n      <td>Neither</td>\n      <td>Slightly dissatisfied</td>\n      <td>False</td>\n      <td>True</td>\n      <td>0.602209</td>\n      <td>367.730081</td>\n      <td>two-sided</td>\n      <td>0.547406</td>\n      <td>1.000000</td>\n      <td>bonf</td>\n      <td>0.118</td>\n      <td>0.055707</td>\n    </tr>\n    <tr>\n      <th>9</th>\n      <td>job_sat</td>\n      <td>Very dissatisfied</td>\n      <td>Slightly dissatisfied</td>\n      <td>False</td>\n      <td>True</td>\n      <td>1.129951</td>\n      <td>247.570187</td>\n      <td>two-sided</td>\n      <td>0.259590</td>\n      <td>1.000000</td>\n      <td>bonf</td>\n      <td>0.197</td>\n      <td>0.119131</td>\n    </tr>\n  </tbody>\n</table>\n</div>"
     },
     "execution_count": 8,
     "metadata": {},
     "output_type": "execute_result"
    }
   ],
   "source": [
    "pin.pairwise_tests(\n",
    "    data=df_stack_overflow, dv='converted_comp', between='job_sat', padjust='bonf')"
   ],
   "metadata": {
    "collapsed": false
   }
  },
  {
   "cell_type": "markdown",
   "source": [
    "# Proportions Tests"
   ],
   "metadata": {
    "collapsed": false
   }
  },
  {
   "cell_type": "code",
   "execution_count": 9,
   "outputs": [
    {
     "data": {
      "text/plain": "age_cat      hobbyist\nAt least 30  Yes          812\n             No           238\nUnder 30     Yes         1021\n             No           190\nName: hobbyist, dtype: int64"
     },
     "execution_count": 9,
     "metadata": {},
     "output_type": "execute_result"
    }
   ],
   "source": [
    "# Two-sample proportions test\n",
    "p_hats = df_stack_overflow.groupby('age_cat')['hobbyist'].value_counts()\n",
    "p_hats"
   ],
   "metadata": {
    "collapsed": false
   }
  },
  {
   "cell_type": "code",
   "execution_count": 10,
   "outputs": [
    {
     "data": {
      "text/plain": "(-4.223691463320559, 2.403330142685068e-05)"
     },
     "execution_count": 10,
     "metadata": {},
     "output_type": "execute_result"
    }
   ],
   "source": [
    "n_hobbyists = np.array([812, 1021])\n",
    "n_rows = np.array([812 + 238, 1021 + 190])\n",
    "proportions_ztest(count=n_hobbyists, nobs=n_rows, alternative='two-sided')"
   ],
   "metadata": {
    "collapsed": false
   }
  },
  {
   "cell_type": "markdown",
   "source": [
    "### Chi-square test of independence _viz_"
   ],
   "metadata": {
    "collapsed": false
   }
  },
  {
   "cell_type": "code",
   "execution_count": 11,
   "outputs": [
    {
     "data": {
      "text/plain": "job_sat                age_cat    \nVery dissatisfied      Under 30       0.509434\n                       At least 30    0.490566\nSlightly dissatisfied  Under 30       0.532164\n                       At least 30    0.467836\nNeither                Under 30       0.567164\n                       At least 30    0.432836\nSlightly satisfied     Under 30       0.564706\n                       At least 30    0.435294\nVery satisfied         Under 30       0.511945\n                       At least 30    0.488055\nName: age_cat, dtype: float64"
     },
     "metadata": {},
     "output_type": "display_data"
    },
    {
     "data": {
      "text/plain": "age_cat                At least 30  Under 30\njob_sat                                     \nVery dissatisfied         0.490566  0.509434\nSlightly dissatisfied     0.467836  0.532164\nNeither                   0.432836  0.567164\nSlightly satisfied        0.435294  0.564706\nVery satisfied            0.488055  0.511945",
      "text/html": "<div>\n<style scoped>\n    .dataframe tbody tr th:only-of-type {\n        vertical-align: middle;\n    }\n\n    .dataframe tbody tr th {\n        vertical-align: top;\n    }\n\n    .dataframe thead th {\n        text-align: right;\n    }\n</style>\n<table border=\"1\" class=\"dataframe\">\n  <thead>\n    <tr style=\"text-align: right;\">\n      <th>age_cat</th>\n      <th>At least 30</th>\n      <th>Under 30</th>\n    </tr>\n    <tr>\n      <th>job_sat</th>\n      <th></th>\n      <th></th>\n    </tr>\n  </thead>\n  <tbody>\n    <tr>\n      <th>Very dissatisfied</th>\n      <td>0.490566</td>\n      <td>0.509434</td>\n    </tr>\n    <tr>\n      <th>Slightly dissatisfied</th>\n      <td>0.467836</td>\n      <td>0.532164</td>\n    </tr>\n    <tr>\n      <th>Neither</th>\n      <td>0.432836</td>\n      <td>0.567164</td>\n    </tr>\n    <tr>\n      <th>Slightly satisfied</th>\n      <td>0.435294</td>\n      <td>0.564706</td>\n    </tr>\n    <tr>\n      <th>Very satisfied</th>\n      <td>0.488055</td>\n      <td>0.511945</td>\n    </tr>\n  </tbody>\n</table>\n</div>"
     },
     "metadata": {},
     "output_type": "display_data"
    },
    {
     "data": {
      "text/plain": "<Figure size 432x288 with 1 Axes>",
      "image/png": "[encoded data removed]"
     },
     "metadata": {},
     "output_type": "display_data"
    }
   ],
   "source": [
    "props = df_stack_overflow.groupby('job_sat')['age_cat'].value_counts(normalize=True)\n",
    "display(props)\n",
    "wide_props = props.unstack()\n",
    "display(wide_props)\n",
    "wide_props.plot(kind='bar', stacked=True)\n",
    "plt.show()"
   ],
   "metadata": {
    "collapsed": false
   }
  },
  {
   "cell_type": "markdown",
   "source": [
    "## Chi-square test of independence"
   ],
   "metadata": {
    "collapsed": false
   }
  },
  {
   "cell_type": "code",
   "execution_count": 12,
   "outputs": [
    {
     "data": {
      "text/plain": "                 test    lambda      chi2  dof      pval    cramer     power\n0             pearson  1.000000  5.552373  4.0  0.235164  0.049555  0.437417\n1        cressie-read  0.666667  5.554106  4.0  0.235014  0.049563  0.437545\n2      log-likelihood  0.000000  5.558529  4.0  0.234632  0.049583  0.437871\n3       freeman-tukey -0.500000  5.562688  4.0  0.234274  0.049601  0.438178\n4  mod-log-likelihood -1.000000  5.567570  4.0  0.233854  0.049623  0.438538\n5              neyman -2.000000  5.579519  4.0  0.232828  0.049676  0.439419",
      "text/html": "<div>\n<style scoped>\n    .dataframe tbody tr th:only-of-type {\n        vertical-align: middle;\n    }\n\n    .dataframe tbody tr th {\n        vertical-align: top;\n    }\n\n    .dataframe thead th {\n        text-align: right;\n    }\n</style>\n<table border=\"1\" class=\"dataframe\">\n  <thead>\n    <tr style=\"text-align: right;\">\n      <th></th>\n      <th>test</th>\n      <th>lambda</th>\n      <th>chi2</th>\n      <th>dof</th>\n      <th>pval</th>\n      <th>cramer</th>\n      <th>power</th>\n    </tr>\n  </thead>\n  <tbody>\n    <tr>\n      <th>0</th>\n      <td>pearson</td>\n      <td>1.000000</td>\n      <td>5.552373</td>\n      <td>4.0</td>\n      <td>0.235164</td>\n      <td>0.049555</td>\n      <td>0.437417</td>\n    </tr>\n    <tr>\n      <th>1</th>\n      <td>cressie-read</td>\n      <td>0.666667</td>\n      <td>5.554106</td>\n      <td>4.0</td>\n      <td>0.235014</td>\n      <td>0.049563</td>\n      <td>0.437545</td>\n    </tr>\n    <tr>\n      <th>2</th>\n      <td>log-likelihood</td>\n      <td>0.000000</td>\n      <td>5.558529</td>\n      <td>4.0</td>\n      <td>0.234632</td>\n      <td>0.049583</td>\n      <td>0.437871</td>\n    </tr>\n    <tr>\n      <th>3</th>\n      <td>freeman-tukey</td>\n      <td>-0.500000</td>\n      <td>5.562688</td>\n      <td>4.0</td>\n      <td>0.234274</td>\n      <td>0.049601</td>\n      <td>0.438178</td>\n    </tr>\n    <tr>\n      <th>4</th>\n      <td>mod-log-likelihood</td>\n      <td>-1.000000</td>\n      <td>5.567570</td>\n      <td>4.0</td>\n      <td>0.233854</td>\n      <td>0.049623</td>\n      <td>0.438538</td>\n    </tr>\n    <tr>\n      <th>5</th>\n      <td>neyman</td>\n      <td>-2.000000</td>\n      <td>5.579519</td>\n      <td>4.0</td>\n      <td>0.232828</td>\n      <td>0.049676</td>\n      <td>0.439419</td>\n    </tr>\n  </tbody>\n</table>\n</div>"
     },
     "execution_count": 12,
     "metadata": {},
     "output_type": "execute_result"
    }
   ],
   "source": [
    "expected, observed, stats = pin.chi2_independence(\n",
    "    data=df_stack_overflow, x='job_sat', y='age_cat')\n",
    "# age categories are independent of job satisfaction\n",
    "stats"
   ],
   "metadata": {
    "collapsed": false
   }
  },
  {
   "cell_type": "code",
   "execution_count": 13,
   "outputs": [
    {
     "data": {
      "text/plain": "Hello, old friend    1225\nIndifferent           405\nAmused                368\nAnnoyed               263\nName: purple_link, dtype: int64"
     },
     "metadata": {},
     "output_type": "display_data"
    },
    {
     "data": {
      "text/plain": "         purple_link     n\n0  Hello, old friend  1225\n1        Indifferent   405\n2             Amused   368\n3            Annoyed   263",
      "text/html": "<div>\n<style scoped>\n    .dataframe tbody tr th:only-of-type {\n        vertical-align: middle;\n    }\n\n    .dataframe tbody tr th {\n        vertical-align: top;\n    }\n\n    .dataframe thead th {\n        text-align: right;\n    }\n</style>\n<table border=\"1\" class=\"dataframe\">\n  <thead>\n    <tr style=\"text-align: right;\">\n      <th></th>\n      <th>purple_link</th>\n      <th>n</th>\n    </tr>\n  </thead>\n  <tbody>\n    <tr>\n      <th>0</th>\n      <td>Hello, old friend</td>\n      <td>1225</td>\n    </tr>\n    <tr>\n      <th>1</th>\n      <td>Indifferent</td>\n      <td>405</td>\n    </tr>\n    <tr>\n      <th>2</th>\n      <td>Amused</td>\n      <td>368</td>\n    </tr>\n    <tr>\n      <th>3</th>\n      <td>Annoyed</td>\n      <td>263</td>\n    </tr>\n  </tbody>\n</table>\n</div>"
     },
     "metadata": {},
     "output_type": "display_data"
    }
   ],
   "source": [
    "# for chi-square goodness of fit we use scipy.stats.chisquare to hypothesize a distribution\n",
    "purple_link_counts = df_stack_overflow['purple_link'].value_counts()\n",
    "display(purple_link_counts)\n",
    "purple_link_counts = purple_link_counts.rename_axis('purple_link').reset_index(name='n')\n",
    "display(purple_link_counts)"
   ],
   "metadata": {
    "collapsed": false
   }
  },
  {
   "cell_type": "code",
   "execution_count": 14,
   "outputs": [
    {
     "data": {
      "text/plain": "Power_divergenceResult(statistic=2459.8146837682443, pvalue=0.0)"
     },
     "execution_count": 14,
     "metadata": {},
     "output_type": "execute_result"
    }
   ],
   "source": [
    "hypothesized = pandas.DataFrame(\n",
    "    {'purple_link': ['Amused', 'Annoyed', 'Hello, old friend', 'Indifferent'],\n",
    "     'probs': [1 / 6, 1 / 6, 1 / 2, 1 / 6]})\n",
    "n = len(df_stack_overflow)\n",
    "hypothesized['n'] = hypothesized['probs'] * n\n",
    "chisquare(f_obs=purple_link_counts['n'], f_exp=hypothesized['n'])"
   ],
   "metadata": {
    "collapsed": false
   }
  },
  {
   "cell_type": "code",
   "execution_count": 16,
   "outputs": [
    {
     "data": {
      "text/plain": "mpg             float64\ncylinders         int64\ndisplacement    float64\nhorsepower      float64\nweight            int64\nacceleration    float64\nmodel_year        int64\norigin           object\nname             object\ndtype: object"
     },
     "execution_count": 16,
     "metadata": {},
     "output_type": "execute_result"
    }
   ],
   "source": [
    "df_mph.dtypes"
   ],
   "metadata": {
    "collapsed": false
   }
  },
  {
   "cell_type": "code",
   "execution_count": 17,
   "outputs": [
    {
     "data": {
      "text/plain": "5"
     },
     "execution_count": 17,
     "metadata": {},
     "output_type": "execute_result"
    }
   ],
   "source": [
    "'some 2019 text'.find('2019')"
   ],
   "metadata": {
    "collapsed": false
   }
  },
  {
   "cell_type": "code",
   "execution_count": 18,
   "outputs": [
    {
     "data": {
      "text/plain": "0       True\n1       True\n2       True\n3       True\n4       True\n       ...  \n393     True\n394    False\n395     True\n396     True\n397     True\nName: origin, Length: 398, dtype: bool"
     },
     "execution_count": 18,
     "metadata": {},
     "output_type": "execute_result"
    }
   ],
   "source": [
    "df_mph['origin'].str.contains('s')"
   ],
   "metadata": {
    "collapsed": false
   }
  },
  {
   "cell_type": "code",
   "execution_count": 19,
   "outputs": [
    {
     "data": {
      "text/plain": "      mpg  cylinders  displacement  horsepower  weight  acceleration  \\\n0    18.0          8         307.0       130.0    3504          12.0   \n1    15.0          8         350.0       165.0    3693          11.5   \n2    18.0          8         318.0       150.0    3436          11.0   \n3    16.0          8         304.0       150.0    3433          12.0   \n4    17.0          8         302.0       140.0    3449          10.5   \n..    ...        ...           ...         ...     ...           ...   \n393  27.0          4         140.0        86.0    2790          15.6   \n394  44.0          4          97.0        52.0    2130          24.6   \n395  32.0          4         135.0        84.0    2295          11.6   \n396  28.0          4         120.0        79.0    2625          18.6   \n397  31.0          4         119.0        82.0    2720          19.4   \n\n     model_year  origin                       name  \n0            70     usa  chevrolet chevelle malibu  \n1            70     usa          buick skylark 320  \n2            70     usa         plymouth satellite  \n3            70     usa              amc rebel sst  \n4            70     usa                ford torino  \n..          ...     ...                        ...  \n393          82     usa            ford mustang gl  \n394          82  europe                  vw pickup  \n395          82     usa              dodge rampage  \n396          82     usa                ford ranger  \n397          82     usa                 chevy s-10  \n\n[398 rows x 9 columns]",
      "text/html": "<div>\n<style scoped>\n    .dataframe tbody tr th:only-of-type {\n        vertical-align: middle;\n    }\n\n    .dataframe tbody tr th {\n        vertical-align: top;\n    }\n\n    .dataframe thead th {\n        text-align: right;\n    }\n</style>\n<table border=\"1\" class=\"dataframe\">\n  <thead>\n    <tr style=\"text-align: right;\">\n      <th></th>\n      <th>mpg</th>\n      <th>cylinders</th>\n      <th>displacement</th>\n      <th>horsepower</th>\n      <th>weight</th>\n      <th>acceleration</th>\n      <th>model_year</th>\n      <th>origin</th>\n      <th>name</th>\n    </tr>\n  </thead>\n  <tbody>\n    <tr>\n      <th>0</th>\n      <td>18.0</td>\n      <td>8</td>\n      <td>307.0</td>\n      <td>130.0</td>\n      <td>3504</td>\n      <td>12.0</td>\n      <td>70</td>\n      <td>usa</td>\n      <td>chevrolet chevelle malibu</td>\n    </tr>\n    <tr>\n      <th>1</th>\n      <td>15.0</td>\n      <td>8</td>\n      <td>350.0</td>\n      <td>165.0</td>\n      <td>3693</td>\n      <td>11.5</td>\n      <td>70</td>\n      <td>usa</td>\n      <td>buick skylark 320</td>\n    </tr>\n    <tr>\n      <th>2</th>\n      <td>18.0</td>\n      <td>8</td>\n      <td>318.0</td>\n      <td>150.0</td>\n      <td>3436</td>\n      <td>11.0</td>\n      <td>70</td>\n      <td>usa</td>\n      <td>plymouth satellite</td>\n    </tr>\n    <tr>\n      <th>3</th>\n      <td>16.0</td>\n      <td>8</td>\n      <td>304.0</td>\n      <td>150.0</td>\n      <td>3433</td>\n      <td>12.0</td>\n      <td>70</td>\n      <td>usa</td>\n      <td>amc rebel sst</td>\n    </tr>\n    <tr>\n      <th>4</th>\n      <td>17.0</td>\n      <td>8</td>\n      <td>302.0</td>\n      <td>140.0</td>\n      <td>3449</td>\n      <td>10.5</td>\n      <td>70</td>\n      <td>usa</td>\n      <td>ford torino</td>\n    </tr>\n    <tr>\n      <th>...</th>\n      <td>...</td>\n      <td>...</td>\n      <td>...</td>\n      <td>...</td>\n      <td>...</td>\n      <td>...</td>\n      <td>...</td>\n      <td>...</td>\n      <td>...</td>\n    </tr>\n    <tr>\n      <th>393</th>\n      <td>27.0</td>\n      <td>4</td>\n      <td>140.0</td>\n      <td>86.0</td>\n      <td>2790</td>\n      <td>15.6</td>\n      <td>82</td>\n      <td>usa</td>\n      <td>ford mustang gl</td>\n    </tr>\n    <tr>\n      <th>394</th>\n      <td>44.0</td>\n      <td>4</td>\n      <td>97.0</td>\n      <td>52.0</td>\n      <td>2130</td>\n      <td>24.6</td>\n      <td>82</td>\n      <td>europe</td>\n      <td>vw pickup</td>\n    </tr>\n    <tr>\n      <th>395</th>\n      <td>32.0</td>\n      <td>4</td>\n      <td>135.0</td>\n      <td>84.0</td>\n      <td>2295</td>\n      <td>11.6</td>\n      <td>82</td>\n      <td>usa</td>\n      <td>dodge rampage</td>\n    </tr>\n    <tr>\n      <th>396</th>\n      <td>28.0</td>\n      <td>4</td>\n      <td>120.0</td>\n      <td>79.0</td>\n      <td>2625</td>\n      <td>18.6</td>\n      <td>82</td>\n      <td>usa</td>\n      <td>ford ranger</td>\n    </tr>\n    <tr>\n      <th>397</th>\n      <td>31.0</td>\n      <td>4</td>\n      <td>119.0</td>\n      <td>82.0</td>\n      <td>2720</td>\n      <td>19.4</td>\n      <td>82</td>\n      <td>usa</td>\n      <td>chevy s-10</td>\n    </tr>\n  </tbody>\n</table>\n<p>398 rows × 9 columns</p>\n</div>"
     },
     "execution_count": 19,
     "metadata": {},
     "output_type": "execute_result"
    }
   ],
   "source": [
    "df_mph.drop_duplicates()"
   ],
   "metadata": {
    "collapsed": false
   }
  },
  {
   "cell_type": "code",
   "execution_count": 22,
   "outputs": [
    {
     "data": {
      "text/plain": "array([[[[0.00756092, 0.24329494, 0.87959222, 0.27588729],\n         [0.73564309, 0.34989888, 0.90393059, 0.66734498],\n         [0.0350336 , 0.11512423, 0.83280253, 0.0334732 ]],\n\n        [[0.19285392, 0.30429392, 0.22406331, 0.7006999 ],\n         [0.62185724, 0.47938533, 0.9619439 , 0.04890176],\n         [0.73249802, 0.74641197, 0.06006911, 0.02113947]]]])"
     },
     "execution_count": 22,
     "metadata": {},
     "output_type": "execute_result"
    }
   ],
   "source": [
    "np.random.sample([1, 2, 3, 4])"
   ],
   "metadata": {
    "collapsed": false
   }
  },
  {
   "cell_type": "code",
   "execution_count": null,
   "outputs": [],
   "source": [],
   "metadata": {
    "collapsed": false
   }
  }
 ],
 "metadata": {
  "kernelspec": {
   "display_name": "Python 3",
   "language": "python",
   "name": "python3"
  },
  "language_info": {
   "codemirror_mode": {
    "name": "ipython",
    "version": 2
   },
   "file_extension": ".py",
   "mimetype": "text/x-python",
   "name": "python",
   "nbconvert_exporter": "python",
   "pygments_lexer": "ipython2",
   "version": "2.7.6"
  }
 },
 "nbformat": 4,
 "nbformat_minor": 0
}
