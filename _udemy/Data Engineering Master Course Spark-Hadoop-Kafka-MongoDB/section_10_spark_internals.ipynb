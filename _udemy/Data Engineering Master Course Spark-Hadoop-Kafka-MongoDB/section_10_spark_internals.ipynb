{
 "cells": [
  {
   "cell_type": "markdown",
   "source": [
    "# >> imports"
   ],
   "metadata": {
    "collapsed": false
   },
   "id": "7021f3391f1fa37a"
  },
  {
   "cell_type": "code",
   "execution_count": 2,
   "id": "initial_id",
   "metadata": {
    "collapsed": true,
    "ExecuteTime": {
     "end_time": "2024-09-09T00:40:09.705390Z",
     "start_time": "2024-09-09T00:40:07.951462Z"
    }
   },
   "outputs": [],
   "source": [
    "import pyspark.sql.dataframe\n",
    "import pandas as pd \n",
    "from pyspark.sql import SparkSession\n",
    "\n",
    "pd.set_option(\"display.max_colwidth\", None)\n",
    "pd.set_option(\"display.max_columns\", None)\n",
    "# pandas.set_option(\"display.max_rows\", None)\n",
    "\n",
    "def to_panda(spark_df: pyspark.sql.dataframe.DataFrame) -> pd.DataFrame:\n",
    "    \"\"\"\n",
    "    Convert a Spark DataFrame to a Pandas DataFrame.\n",
    "    \n",
    "    :param spark_df: the Spark DataFrame to convert \n",
    "    :return: the pandas DataFrame\n",
    "    \"\"\"\n",
    "    return pd.DataFrame([row.asDict() for row in spark_df.collect()])"
   ]
  },
  {
   "cell_type": "code",
   "outputs": [
    {
     "data": {
      "text/plain": "<pyspark.sql.session.SparkSession at 0x7f7c49dca760>",
      "text/html": "\n            <div>\n                <p><b>SparkSession - in-memory</b></p>\n                \n        <div>\n            <p><b>SparkContext</b></p>\n\n            <p><a href=\"http://juliuss-imac.lan:4040\">Spark UI</a></p>\n\n            <dl>\n              <dt>Version</dt>\n                <dd><code>v3.4.1</code></dd>\n              <dt>Master</dt>\n                <dd><code>local[*]</code></dd>\n              <dt>AppName</dt>\n                <dd><code>spark_internals_practice</code></dd>\n            </dl>\n        </div>\n        \n            </div>\n        "
     },
     "execution_count": 4,
     "metadata": {},
     "output_type": "execute_result"
    }
   ],
   "source": [
    "# name of the spark app \n",
    "THE_SPARK_APP_NAME = \"spark_internals_practice\"\n",
    "\n",
    "spark = (\n",
    "    SparkSession\n",
    "    .builder\n",
    "    .config(\"spark.sql.adaptive.enabled\", \"true\")\n",
    "    # .config(\"spark.sql.shuffle.partitions\", 4)\n",
    "    .config(\"spark.sql.session.timeZone\", \"UTC\")\n",
    "    .config(\"spark.sql.broadcastTimeout\", 12000)\n",
    "    .appName(THE_SPARK_APP_NAME)\n",
    "    .getOrCreate()\n",
    ")\n",
    "\n",
    "spark"
   ],
   "metadata": {
    "collapsed": false,
    "ExecuteTime": {
     "end_time": "2024-09-09T00:41:41.825929Z",
     "start_time": "2024-09-09T00:41:41.761147Z"
    }
   },
   "id": "f6f0907354e73c12",
   "execution_count": 4
  },
  {
   "cell_type": "code",
   "outputs": [
    {
     "name": "stdout",
     "output_type": "stream",
     "text": [
      "Spark Web UI URL: http://juliuss-imac.lan:4040\n"
     ]
    }
   ],
   "source": [
    "web_ui_url = spark.sparkContext.uiWebUrl\n",
    "print(f\"Spark Web UI URL: {web_ui_url}\")"
   ],
   "metadata": {
    "collapsed": false,
    "ExecuteTime": {
     "end_time": "2024-09-09T00:42:16.049844Z",
     "start_time": "2024-09-09T00:42:16.044784Z"
    }
   },
   "id": "c4f2375d7cd50848",
   "execution_count": 5
  },
  {
   "cell_type": "code",
   "outputs": [
    {
     "data": {
      "text/plain": "pyspark.rdd.RDD"
     },
     "execution_count": 13,
     "metadata": {},
     "output_type": "execute_result"
    }
   ],
   "source": [
    "rdd1 = spark.sparkContext.textFile(\"movies.json\")\n",
    "type(rdd1)"
   ],
   "metadata": {
    "collapsed": false,
    "ExecuteTime": {
     "end_time": "2024-09-09T00:59:30.388597Z",
     "start_time": "2024-09-09T00:59:30.242605Z"
    }
   },
   "id": "156a5b7eb6b26de",
   "execution_count": 13
  },
  {
   "cell_type": "code",
   "outputs": [
    {
     "name": "stderr",
     "output_type": "stream",
     "text": [
      "[\n",
      "  {\n",
      "    \"_id\": \"Titanic_2001\",\n",
      "    \"name\": \"Titanic\",\n",
      "    \"year\": 2001,\n",
      "    \"genre\": [\n",
      "      \"romantic\",\n",
      "      \"drama\"\n",
      "    ],\n",
      "    \"rating\": 4,\n",
      "    \"description\": \"A seventeen-year-old aristocrat falls in love with a kind but poor artist aboard the luxurious, ill-fated R.M.S. Titanic\"\n",
      "  },\n",
      "  {\n",
      "    \"_id\": \"Sunshine_2009\",\n",
      "    \"name\": \"Sunshine\",\n",
      "    \"year\": 2004,\n",
      "    \"genre\": [\n",
      "      \"sci-fi\",\n",
      "      \"thriller\"\n",
      "    ],\n",
      "    \"rating\": 3.5,\n",
      "    \"description\": \"A team of international astronauts are sent on a dangerous mission to reignite the dying Sun with a nuclear fission bomb in 2057.\"\n",
      "  },\n",
      "  {\n",
      "    \"_id\": \"Forest_2005\",\n",
      "    \"name\": \"Forest Gump\",\n",
      "    \"year\": 2005,\n",
      "    \"genre\": [\n",
      "      \"drama\",\n",
      "      \"crime\",\n",
      "      \"thriller\"\n",
      "    ],\n",
      "    \"rating\": 3,\n",
      "    \"description\": \"A team of international astronauts are sent on a dangerous mission to reignite the dying Sun with a nuclear fission bomb in 2057.\"\n",
      "  },\n",
      "  {\n",
      "    \"_id\": \"Idiots_2004\",\n",
      "    \"name\": \"3 Idiots\",\n",
      "    \"year\": 2004,\n",
      "    \"genre\": [\n",
      "      \"drama\",\n",
      "      \"comedy\",\n",
      "      \"romantic\"\n",
      "    ],\n",
      "    \"rating\": 4.5,\n",
      "    \"description\": \"Two friends are searching for their long lost companion. They revisit their college days and recall the memories of their friend who inspired them to think differently, even as the rest of the world called them idiots\"\n",
      "  },\n",
      "  {\n",
      "    \"_id\": \"Inception_2006\",\n",
      "    \"name\": \"Inception\",\n",
      "    \"year\": 2001,\n",
      "    \"genre\": [\n",
      "      \"action\",\n",
      "      \"adventure\",\n",
      "      \"sci-fi\"\n",
      "    ],\n",
      "    \"rating\": 4,\n",
      "    \"description\": \"A thief who steals corporate secrets through the use of dream-sharing technology is given the inverse task of planting an idea into the mind of a C.E.O.\"\n",
      "  },\n",
      "  {\n",
      "    \"_id\": \"Wolf_2009\",\n",
      "    \"name\": \"Wolf of wall street\",\n",
      "    \"year\": 2001,\n",
      "    \"genre\": [\n",
      "      \"action\",\n",
      "      \"drama\"\n",
      "    ],\n",
      "    \"rating\": 3.5,\n",
      "    \"description\": \"Based on the true story of Jordan Belfort, from his rise to a wealthy stock-broker living the high life to his fall involving crime, corruption and the federal government.\"\n",
      "  }\n",
      "]\n"
     ]
    }
   ],
   "source": [
    "rdd1.foreach(lambda x: print(x))"
   ],
   "metadata": {
    "collapsed": false,
    "ExecuteTime": {
     "end_time": "2024-09-09T01:00:06.119016Z",
     "start_time": "2024-09-09T01:00:05.821067Z"
    }
   },
   "id": "b2516ac1e966c16b",
   "execution_count": 14
  },
  {
   "cell_type": "code",
   "outputs": [
    {
     "name": "stdout",
     "output_type": "stream",
     "text": [
      "+--------------+--------------------+--------------------+-------------------+------+----+\n",
      "|           _id|         description|               genre|               name|rating|year|\n",
      "+--------------+--------------------+--------------------+-------------------+------+----+\n",
      "|  Titanic_2001|A seventeen-year-...|   [romantic, drama]|            Titanic|   4.0|2001|\n",
      "| Sunshine_2009|A team of interna...|  [sci-fi, thriller]|           Sunshine|   3.5|2004|\n",
      "|   Forest_2005|A team of interna...|[drama, crime, th...|        Forest Gump|   3.0|2005|\n",
      "|   Idiots_2004|Two friends are s...|[drama, comedy, r...|           3 Idiots|   4.5|2004|\n",
      "|Inception_2006|A thief who steal...|[action, adventur...|          Inception|   4.0|2001|\n",
      "|     Wolf_2009|Based on the true...|     [action, drama]|Wolf of wall street|   3.5|2001|\n",
      "+--------------+--------------------+--------------------+-------------------+------+----+\n"
     ]
    }
   ],
   "source": [
    "# read movies.json file\n",
    "movies_df = spark.read.option('multiLine', True).json('movies.json')\n",
    "movies_df.show()"
   ],
   "metadata": {
    "collapsed": false,
    "ExecuteTime": {
     "end_time": "2024-09-09T01:03:16.918551Z",
     "start_time": "2024-09-09T01:03:16.301672Z"
    }
   },
   "id": "48e7e43bb411c719",
   "execution_count": 16
  },
  {
   "cell_type": "code",
   "outputs": [],
   "source": [
    "df2 = movies_df.filter('year>2001')"
   ],
   "metadata": {
    "collapsed": false,
    "ExecuteTime": {
     "end_time": "2024-09-09T01:06:43.192589Z",
     "start_time": "2024-09-09T01:06:42.982642Z"
    }
   },
   "id": "c643cecab10a778e",
   "execution_count": 17
  },
  {
   "cell_type": "code",
   "outputs": [
    {
     "name": "stdout",
     "output_type": "stream",
     "text": [
      "+-------------+--------------------+--------------------+-----------+------+----+\n",
      "|          _id|         description|               genre|       name|rating|year|\n",
      "+-------------+--------------------+--------------------+-----------+------+----+\n",
      "|Sunshine_2009|A team of interna...|  [sci-fi, thriller]|   Sunshine|   3.5|2004|\n",
      "|  Forest_2005|A team of interna...|[drama, crime, th...|Forest Gump|   3.0|2005|\n",
      "|  Idiots_2004|Two friends are s...|[drama, comedy, r...|   3 Idiots|   4.5|2004|\n",
      "+-------------+--------------------+--------------------+-----------+------+----+\n"
     ]
    }
   ],
   "source": [
    "df2.show()"
   ],
   "metadata": {
    "collapsed": false,
    "ExecuteTime": {
     "end_time": "2024-09-09T01:07:51.408318Z",
     "start_time": "2024-09-09T01:07:50.668798Z"
    }
   },
   "id": "f1dba0c30448f832",
   "execution_count": 18
  },
  {
   "cell_type": "code",
   "outputs": [],
   "source": [
    "df3 = movies_df.filter('rating>3.0').groupby('year').count()\n",
    "df3.write.json('movies_rating_gt_3.json')"
   ],
   "metadata": {
    "collapsed": false,
    "ExecuteTime": {
     "end_time": "2024-09-09T01:25:49.846675Z",
     "start_time": "2024-09-09T01:25:49.036526Z"
    }
   },
   "id": "4b7e09fed9bf3c1a",
   "execution_count": 25
  },
  {
   "cell_type": "code",
   "outputs": [],
   "source": [],
   "metadata": {
    "collapsed": false
   },
   "id": "bb8f5d431b74f51e"
  },
  {
   "cell_type": "code",
   "outputs": [],
   "source": [],
   "metadata": {
    "collapsed": false
   },
   "id": "658fba9f29a27999"
  },
  {
   "cell_type": "code",
   "outputs": [],
   "source": [],
   "metadata": {
    "collapsed": false
   },
   "id": "77cb6d9642aa1bcf"
  }
 ],
 "metadata": {
  "kernelspec": {
   "display_name": "Python 3",
   "language": "python",
   "name": "python3"
  },
  "language_info": {
   "codemirror_mode": {
    "name": "ipython",
    "version": 2
   },
   "file_extension": ".py",
   "mimetype": "text/x-python",
   "name": "python",
   "nbconvert_exporter": "python",
   "pygments_lexer": "ipython2",
   "version": "2.7.6"
  }
 },
 "nbformat": 4,
 "nbformat_minor": 5
}
