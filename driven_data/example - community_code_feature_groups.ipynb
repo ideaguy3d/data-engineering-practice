{
 "cells": [
  {
   "cell_type": "code",
   "execution_count": 1,
   "metadata": {},
   "outputs": [],
   "source": [
    "# Import necessary libraries\n",
    "import pandas as pd\n",
    "import numpy as np\n",
    "import plotly.express as px\n",
    "from sklearn.linear_model import Ridge\n",
    "from sklearn.ensemble import RandomForestRegressor\n",
    "from sklearn.preprocessing import StandardScaler\n",
    "from sklearn.metrics import mean_squared_error, mean_absolute_error, r2_score\n",
    "from sklearn.impute import SimpleImputer\n",
    "from sklearn.model_selection import train_test_split\n",
    "\n",
    "import warnings\n",
    "warnings.filterwarnings('ignore')\n",
    "\n",
    "# Set random seed for reproducibility\n",
    "np.random.seed(1216)\n",
    "\n",
    "# Loading the dataset\n",
    "train_X = pd.read_csv(\"train_features.csv\")\n",
    "train_y = pd.read_csv(\"train_labels.csv\")\n",
    "\n",
    "merged_df = pd.merge(\n",
    "    train_X,\n",
    "    train_y, \n",
    "    on=['uid'],\n",
    "    how='inner'\n",
    ")"
   ]
  },
  {
   "cell_type": "markdown",
   "metadata": {},
   "source": [
    "# Splitting the features to groups\n",
    "\n",
    "There are many different features in this dataset, and it would be a bit overwhelming to immediately train a model on all available features. In addition, for explainability purposes, it is useful to have high-level semantic groups of features and use these groups for analytics.\n",
    "\n",
    "Below is one of the possible groupings I used. Obviusoly, this is only one option and the features can be grouped in many other ways:\n",
    "\n",
    "### Demographic Information\n",
    "- **`age_03` / `age_12`**: Binned age group.\n",
    "- **`urban_03` / `urban_12`**: Locality size. Either 0. <100,000 (rural) or 1. 100,000+ (urban).\n",
    "- **`married_03` / `married_12`**: Marital status.\n",
    "- **`n_mar_03` / `n_mar_12`**: Number of marriages.\n",
    "- **`ragender`**: Gender.\n",
    "- **`sgender_03` / `sgender_12`**: Spouse's gender.\n",
    "\n",
    "### Socioeconomic Status\n",
    "- **`edu_gru_03` / `edu_gru_12`**: Binned education level.\n",
    "- **`employment_03` / `employment_12`**: Employment status.\n",
    "- **`rearnings_03` / `rearnings_12`**: Earnings from employment.\n",
    "- **`searnings_03` / `searnings_12`**: Spouse's earnings from employment.\n",
    "- **`hincome_03` / `hincome_12`**: Household income.\n",
    "- **`hinc_business_03` / `hinc_business_12`**: Household income from business.\n",
    "- **`hinc_rent_03` / `hinc_rent_12`**: Household income from rent.\n",
    "- **`hinc_assets_03` / `hinc_assets_12`**: Household income from financial assets.\n",
    "- **`hinc_cap_03` / `hinc_cap_12`**: Household capital income.\n",
    "- **`rinc_pension_03` / `rinc_pension_12`**: Income from pensions.\n",
    "- **`sinc_pension_03` / `sinc_pension_12`**: Spouse's income from pensions.\n",
    "\n",
    "### Health and Physical Limitations\n",
    "- **`glob_hlth_03` / `glob_hlth_12`**: Self-reported global health.\n",
    "- **`adl_dress_03` / `adl_dress_12`**: Has difficulty getting dressed.\n",
    "- **`adl_walk_03` / `adl_walk_12`**: Has difficulty walking from one side of the room to the other.\n",
    "- **`adl_bath_03` / `adl_bath_12`**: Has difficulty bathing themselves in a tub or shower.\n",
    "- **`adl_eat_03` / `adl_eat_12`**: Has difficulty eating.\n",
    "- **`adl_bed_03` / `adl_bed_12`**: Has difficulty getting in and out of bed.\n",
    "- **`adl_toilet_03` / `adl_toilet_12`**: Has difficulty using the toilet.\n",
    "- **`n_adl_03` / `n_adl_12`**: Number of activities of daily living (ADL) limitations (0-5).\n",
    "- **`iadl_money_03` / `iadl_money_12`**: Has difficulty managing money.\n",
    "- **`iadl_meds_03` / `iadl_meds_12`**: Has difficulty taking medications.\n",
    "- **`iadl_shop_03` / `iadl_shop_12`**: Has difficulty shopping for groceries.\n",
    "- **`iadl_meals_03` / `iadl_meals_12`**: Has difficulty preparing a hot meal.\n",
    "- **`n_iadl_03` / `n_iadl_12`**: Number of instrumental activities of daily living (IADL) limitations (0-4).\n",
    "- **`hypertension_03` / `hypertension_12`**: Has been diagnosed with hypertension.\n",
    "- **`diabetes_03` / `diabetes_12`**: Has been diagnosed with diabetes.\n",
    "- **`resp_ill_03` / `resp_ill_12`**: Has been diagnosed with respiratory illness.\n",
    "- **`arthritis_03` / `arthritis_12`**: Has been diagnosed with arthritis/rheumatism.\n",
    "- **`hrt_attack_03` / `hrt_attack_12`**: Has been told they had a heart attack.\n",
    "- **`stroke_03` / `stroke_12`**: Has been told they had a stroke.\n",
    "- **`cancer_03` / `cancer_12`**: Has been diagnosed with cancer.\n",
    "- **`n_illnesses_03` / `n_illnesses_12`**: Number of illnesses (0-7).\n",
    "- **`bmi_03` / `bmi_12`**: Binned body mass index.\n",
    "\n",
    "### Mental Health and Well-being\n",
    "- **`depressed_03` / `depressed_12`**: Most of the past week, felt depressed.\n",
    "- **`hard_03` / `hard_12`**: Most of the past week, felt that everything was an effort.\n",
    "- **`restless_03` / `restless_12`**: Most of the past week, felt that their sleep was restless.\n",
    "- **`happy_03` / `happy_12`**: Most of the past week, felt happy.\n",
    "- **`lonely_03` / `lonely_12`**: Most of the past week, felt lonely.\n",
    "- **`enjoy_03` / `enjoy_12`**: Most of the past week, felt that they enjoyed life.\n",
    "- **`sad_03` / `sad_12`**: Most of the past week, felt sad.\n",
    "- **`tired_03` / `tired_12`**: Most of the past week, felt tired.\n",
    "- **`energetic_03` / `energetic_12`**: Most of the past week, felt they had a lot of energy.\n",
    "- **`n_depr_03` / `n_depr_12`**: Number of CES-D depressive symptoms (0-9).\n",
    "- **`cesd_depressed_03` / `cesd_depressed_12`**: Has 5+ CES-D depressive symptoms.\n",
    "\n",
    "### Lifestyle and Behavior\n",
    "- **`exer_3xwk_03` / `exer_3xwk_12`**: Exercises 3+ times per week.\n",
    "- **`alcohol_03` / `alcohol_12`**: Currently drinks alcohol.\n",
    "- **`tobacco_03` / `tobacco_12`**: Currently smokes tobacco.\n",
    "- **`test_chol_03` / `test_chol_12`**: Has had a cholesterol blood test.\n",
    "- **`test_tuber_03` / `test_tuber_12`**: Has been tested for tuberculosis.\n",
    "- **`test_diab_03` / `test_diab_12`**: Has been tested for diabetes.\n",
    "- **`test_pres_03` / `test_pres_12`**: Has been tested for high blood pressure.\n",
    "- **`hosp_03` / `hosp_12`**: Has been hospitalized at least one night in the last year.\n",
    "- **`visit_med_03` / `visit_med_12`**: Has visited a doctor at least once in the last year.\n",
    "- **`out_proc_03` / `out_proc_12`**: Has had at least one outpatient procedure in the last year.\n",
    "- **`visit_dental_03` / `visit_dental_12`**: Has visited a dentist at least once in the last year.\n",
    "\n",
    "### Social and Family Dynamics\n",
    "- **`n_living_child_03` / `n_living_child_12`**: Binned number of living children.\n",
    "- **`migration_03` / `migration_12`**: Has lived or worked in the U.S.\n",
    "- **`decis_famil_03` / `decis_famil_12`**: Weight in family decisions.\n",
    "- **`decis_personal_03` / `decis_personal_12`**: Weight over personal decisions.\n",
    "- **`care_adult_12`**: Uses time to look after a sick or disabled adult.\n",
    "- **`care_child_12`**: Uses time to look after children under 12.\n",
    "- **`volunteer_12`**: Uses time to volunteer for a non-profit.\n",
    "- **`attends_class_12`**: Uses time to attend training course, lecture, or class.\n",
    "- **`attends_club_12`**: Uses time to attend sports or social club.\n",
    "- **`reads_12`**: Uses time to read books, magazines, newspapers.\n",
    "- **`games_12`**: Uses time to do crosswords, jigsaw puzzles, number games.\n",
    "- **`table_games_12`**: Uses time to play tabletop games. E.g., cards, dominoes, chess.\n",
    "- **`comms_tel_comp_12`**: Uses time to talk on the phone or send message/use the web on a computer.\n",
    "- **`act_mant_12`**: Uses time to maintain a house, do repairs, garden, etc.\n",
    "- **`tv_12`**: Uses time to watch television.\n",
    "- **`sewing_12`**: Uses time to sew, embroider, knit, make crafts.\n",
    "- **`satis_ideal_12`**: How much they agree with the statement that their life is close to ideal.\n",
    "- **`satis_excel_12`**: How much they agree with the statement that life is excellent.\n",
    "- **`satis_fine_12`**: How much they agree with the statement that they are satisfied with their life.\n",
    "- **`cosas_imp_12`**: How much they agree with the statement that they have achieved the things in life that are important to them.\n",
    "- **`wouldnt_change_12`**: How much they agree with the statement that they would change almost nothing about their life.\n",
    "- **`memory_12`**: Self-reported memory.\n",
    "- **`rrelgimp_03` / `rrelgimp_12`**: Importance of religion.\n",
    "- **`rrfcntx_m_12`**: How often they see friends and relatives.\n",
    "- **`rsocact_m_12`**: How often they have social activities.\n",
    "- **`rrelgwk_12`**: Participates in weekly religious services.\n",
    "\n",
    "### Health Insurance and Coverage\n",
    "- **`imss_03` / `imss_12`**: Has health coverage with IMSS.\n",
    "- **`issste_03` / `issste_12`**: Has health coverage with ISSSTE/ISSSTE Estatal.\n",
    "- **`pem_def_mar_03` / `pem_def_mar_12`**: Has health coverage with PEMEX, Defensa, or Marina.\n",
    "- **`insur_private_03` / `insur_private_12`**: Has health coverage with private health insurance.\n",
    "- **`insur_other_03` / `insur_other_12`**: Has health coverage with other health insurance.\n",
    "- **`seg_pop_12`**: Has health coverage with Seguro Popular.\n",
    "- **`insured_03` / `insured_12`**: Has health insurance.\n",
    "\n",
    "### Migration and U.S. Experience\n",
    "- **`a16a_12`**: Year when respondent first left for the U.S., if they ever lived in the U.S.\n",
    "- **`a21_12`**: Total years lived or worked in the U.S.\n",
    "- **`a22_12`**: Main job type during longest stay in the U.S.\n",
    "- **`a33b_12`**: U.S. residency status.\n",
    "- **`a34_12`**: Speaks English.\n",
    "\n",
    "### Housing and Environment\n",
    "- **`j11_12`**: Floor material of residence.\n",
    "\n",
    "### Parental Education\n",
    "- **`rameduc_m`**: Mother's education level.\n",
    "- **`rafeduc_m`**: Father's education level.\n",
    "\n",
    "### Employment and Job History\n",
    "- **`rjob_hrswk_03` / `rjob_hrswk_12`**: Hours per week that they worked at their main job.\n",
    "- **`rjlocc_m_03` / `rjlocc_m_12`**: Category of their longest occupation.\n",
    "- **`rjob_end_03` / `rjob_end_12`**: Year that their last job ended.\n",
    "- **`rjobend_reason_03` / `rjobend_reason_12`**: Reason that their last job ended.\n"
   ]
  },
  {
   "cell_type": "code",
   "execution_count": 2,
   "metadata": {},
   "outputs": [],
   "source": [
    "feature_groups = {\n",
    "    \"Demographic Information\": [\n",
    "        \"age_03\", \"age_12\", \"urban_03\", \"urban_12\", \"married_03\", \"married_12\",\n",
    "        \"n_mar_03\", \"n_mar_12\", \"ragender\", \"sgender_03\", \"sgender_12\"\n",
    "    ],\n",
    "    \"Socioeconomic Status\": [\n",
    "        \"edu_gru_03\", \"edu_gru_12\", \"employment_03\", \"employment_12\", \"rearnings_03\",\n",
    "        \"rearnings_12\", \"searnings_03\", \"searnings_12\", \"hincome_03\", \"hincome_12\",\n",
    "        \"hinc_business_03\", \"hinc_business_12\", \"hinc_rent_03\", \"hinc_rent_12\",\n",
    "        \"hinc_assets_03\", \"hinc_assets_12\", \"hinc_cap_03\", \"hinc_cap_12\",\n",
    "        \"rinc_pension_03\", \"rinc_pension_12\", \"sinc_pension_03\", \"sinc_pension_12\"\n",
    "    ],\n",
    "    \"Health and Physical Limitations\": [\n",
    "        \"glob_hlth_03\", \"glob_hlth_12\", \"adl_dress_03\", \"adl_dress_12\", \"adl_walk_03\",\n",
    "        \"adl_walk_12\", \"adl_bath_03\", \"adl_bath_12\", \"adl_eat_03\", \"adl_eat_12\",\n",
    "        \"adl_bed_03\", \"adl_bed_12\", \"adl_toilet_03\", \"adl_toilet_12\", \"n_adl_03\",\n",
    "        \"n_adl_12\", \"iadl_money_03\", \"iadl_money_12\", \"iadl_meds_03\", \"iadl_meds_12\",\n",
    "        \"iadl_shop_03\", \"iadl_shop_12\", \"iadl_meals_03\", \"iadl_meals_12\", \"n_iadl_03\",\n",
    "        \"n_iadl_12\", \"hypertension_03\", \"hypertension_12\", \"diabetes_03\", \"diabetes_12\",\n",
    "        \"resp_ill_03\", \"resp_ill_12\", \"arthritis_03\", \"arthritis_12\", \"hrt_attack_03\",\n",
    "        \"hrt_attack_12\", \"stroke_03\", \"stroke_12\", \"cancer_03\", \"cancer_12\",\n",
    "        \"n_illnesses_03\", \"n_illnesses_12\", \"bmi_03\", \"bmi_12\"\n",
    "    ],\n",
    "    \"Mental Health and Well-being\": [\n",
    "        \"depressed_03\", \"depressed_12\", \"hard_03\", \"hard_12\", \"restless_03\",\n",
    "        \"restless_12\", \"happy_03\", \"happy_12\", \"lonely_03\", \"lonely_12\", \"enjoy_03\",\n",
    "        \"enjoy_12\", \"sad_03\", \"sad_12\", \"tired_03\", \"tired_12\", \"energetic_03\",\n",
    "        \"energetic_12\", \"n_depr_03\", \"n_depr_12\", \"cesd_depressed_03\", \"cesd_depressed_12\"\n",
    "    ],\n",
    "    \"Lifestyle and Behavior\": [\n",
    "        \"exer_3xwk_03\", \"exer_3xwk_12\", \"alcohol_03\", \"alcohol_12\", \"tobacco_03\",\n",
    "        \"tobacco_12\", \"test_chol_03\", \"test_chol_12\", \"test_tuber_03\", \"test_tuber_12\",\n",
    "        \"test_diab_03\", \"test_diab_12\", \"test_pres_03\", \"test_pres_12\", \"hosp_03\",\n",
    "        \"hosp_12\", \"visit_med_03\", \"visit_med_12\", \"out_proc_03\", \"out_proc_12\",\n",
    "        \"visit_dental_03\", \"visit_dental_12\"\n",
    "    ],\n",
    "    \"Social and Family Dynamics\": [\n",
    "        \"n_living_child_03\", \"n_living_child_12\", \"migration_03\", \"migration_12\",\n",
    "        \"decis_famil_03\", \"decis_famil_12\", \"decis_personal_03\", \"decis_personal_12\",\n",
    "        \"care_adult_12\", \"care_child_12\", \"volunteer_12\", \"attends_class_12\",\n",
    "        \"attends_club_12\", \"reads_12\", \"games_12\", \"table_games_12\", \"comms_tel_comp_12\",\n",
    "        \"act_mant_12\", \"tv_12\", \"sewing_12\", \"satis_ideal_12\", \"satis_excel_12\",\n",
    "        \"satis_fine_12\", \"cosas_imp_12\", \"wouldnt_change_12\", \"memory_12\", \"rrelgimp_03\",\n",
    "        \"rrelgimp_12\", \"rrfcntx_m_12\", \"rsocact_m_12\", \"rrelgwk_12\"\n",
    "    ],\n",
    "    \"Health Insurance and Coverage\": [\n",
    "        \"imss_03\", \"imss_12\", \"issste_03\", \"issste_12\", \"pem_def_mar_03\", \"pem_def_mar_12\",\n",
    "        \"insur_private_03\", \"insur_private_12\", \"insur_other_03\", \"insur_other_12\",\n",
    "        \"seg_pop_12\", \"insured_03\", \"insured_12\"\n",
    "    ],\n",
    "    \"Migration and U.S. Experience\": [\n",
    "        \"a16a_12\", \"a21_12\", \"a22_12\", \"a33b_12\", \"a34_12\"\n",
    "    ],\n",
    "    \"Housing and Environment\": [\n",
    "        \"j11_12\"\n",
    "    ],\n",
    "    \"Parental Education\": [\n",
    "        \"rameduc_m\", \"rafeduc_m\"\n",
    "    ],\n",
    "    \"Employment and Job History\": [\n",
    "        \"rjob_hrswk_03\", \"rjob_hrswk_12\", \"rjlocc_m_03\", \"rjlocc_m_12\", \"rjob_end_03\",\n",
    "        \"rjob_end_12\", \"rjobend_reason_03\", \"rjobend_reason_12\"\n",
    "    ],\n",
    "    \"Identifier\": [\n",
    "        \"uid\", \"year\"\n",
    "    ]\n",
    "}\n"
   ]
  },
  {
   "cell_type": "markdown",
   "metadata": {},
   "source": [
    "# Train / Validation split\n",
    "\n",
    "**It is important to consider several things when approaching the train/validation split:**\n",
    "\n",
    "### Temporal Structure:\n",
    " + Features are from 2003 and 2012\n",
    " + Target values (composite_scores) are from 2016 and 2021\n",
    " + This means we're always predicting 4-9 years into the future\n",
    " + Some individuals have scores for both 2016 and 2021, while others have only one score\n",
    "Hence, we should try to maintain similar distributions of 2016/2021 predictions in both sets\n",
    "\n",
    "### Correct 'out-of-sample' Predictions:\n",
    " + we must ensure no uid appears in both training and validation sets (this would be a form of data leakage in favor of the model)\n",
    " \n",
    "### Best Practices\n",
    " + We should try to maintain similar distributions of 2016/2021 predictions in both sets\n",
    " + The validation set should mirror the test set structure to properly evaluate model performance"
   ]
  },
  {
   "cell_type": "code",
   "execution_count": 3,
   "metadata": {},
   "outputs": [
    {
     "name": "stdout",
     "output_type": "stream",
     "text": [
      "Distribution of years: year\n",
      "2021    0.632512\n",
      "2016    0.367488\n",
      "Name: proportion, dtype: float64\n"
     ]
    }
   ],
   "source": [
    "# Calculate the distribution of years in the target\n",
    "year_dist = train_y['year'].value_counts(normalize=True)\n",
    "print(\"Distribution of years:\", year_dist)\n",
    "\n",
    "# Get unique UIDs\n",
    "unique_uids = train_y['uid'].unique()\n",
    "\n",
    "# Stratify based on whether a person has one or both years\n",
    "uid_patterns = train_y.groupby('uid')['year'].nunique()\n",
    "single_year_uids = uid_patterns[uid_patterns == 1].index\n",
    "both_year_uids = uid_patterns[uid_patterns == 2].index\n",
    "\n",
    "train_uids_single, val_uids_single = train_test_split(\n",
    "    single_year_uids, \n",
    "    test_size=0.2, \n",
    "    random_state=42\n",
    ")\n",
    "\n",
    "train_uids_both, val_uids_both = train_test_split(\n",
    "    both_year_uids, \n",
    "    test_size=0.2, # 80 / 20 split\n",
    "    random_state=42\n",
    ")\n",
    "\n",
    "# Combine the UIDs\n",
    "train_uids = np.concatenate([train_uids_single, train_uids_both])\n",
    "val_uids = np.concatenate([val_uids_single, val_uids_both])\n",
    "\n",
    "# Split the actual data\n",
    "train_indices = train_y['uid'].isin(train_uids)\n",
    "val_indices = train_y['uid'].isin(val_uids)\n",
    "\n",
    "y_train = train_y[train_indices]\n",
    "y_val = train_y[val_indices]\n",
    "X_train = merged_df[merged_df['uid'].isin(train_uids)]\n",
    "X_val = merged_df[merged_df['uid'].isin(val_uids)]"
   ]
  },
  {
   "cell_type": "markdown",
   "metadata": {},
   "source": [
    "# Missing values\n",
    "\n",
    "There are several features with high percentage of missing values. We will drop them for brevity of this notebook."
   ]
  },
  {
   "cell_type": "code",
   "execution_count": 4,
   "metadata": {},
   "outputs": [],
   "source": [
    "# dropping features that contain >70% missing values\n",
    "features_to_drop = {\n",
    "    \"due_to_missing_values\": ['a16a_12', \n",
    "                              'a22_12',                                   \n",
    "                              'a21_12',                                     \n",
    "                              'a33b_12',                                  \n",
    "                              'rjlocc_m_03',                              \n",
    "                              'rjob_end_03',                              \n",
    "                              'rjobend_reason_03',                        \n",
    "                              'rjob_end_12',\n",
    "                              'rjobend_reason_12']\n",
    "}\n",
    "X_train = X_train.drop(columns=features_to_drop[\"due_to_missing_values\"])\n",
    "X_val = X_val.drop(columns=features_to_drop[\"due_to_missing_values\"])\n"
   ]
  },
  {
   "cell_type": "markdown",
   "metadata": {},
   "source": [
    "# Evaluation Method\n",
    "\n",
    "We use a very empirical approach here - checking the predictive power of each group based on model performance. Since feature importance varies based on the model/prediction method, we will use both a tree-based model and statistical based methods to check the mean predictive power for each group.  \n",
    "This would typically give us a good estimate of the non-linear predictive power of each group (tree-based) and the linear predictive power of each group (statistical).\n",
    "\n",
    "**For each feature group**, we will:\n",
    " + Train a simple model and get feature importances\n",
    " + Evaluate model scores on validation set"
   ]
  },
  {
   "cell_type": "code",
   "execution_count": 5,
   "metadata": {},
   "outputs": [],
   "source": [
    "def train_linear_model(X_train, y_train, random_state=42):\n",
    "    \"\"\"\n",
    "    Train a linear model with preprocessing pipeline\n",
    "    \"\"\"\n",
    "    # Create preprocessing pipeline\n",
    "    num_imputer = SimpleImputer(strategy='mean')\n",
    "    cat_imputer = SimpleImputer(strategy='constant', fill_value='MISSING')\n",
    "    scaler = StandardScaler()\n",
    "    \n",
    "    # Separate numerical and categorical columns\n",
    "    num_cols = X_train.select_dtypes(include=['int64', 'float64']).columns\n",
    "    cat_cols = X_train.select_dtypes(include=['object']).columns\n",
    "    \n",
    "    # Initialize X_processed as None\n",
    "    X_processed = None\n",
    "    \n",
    "    # Process numerical features if they exist\n",
    "    if len(num_cols) > 0:\n",
    "        X_num = X_train[num_cols].copy()\n",
    "        X_num = num_imputer.fit_transform(X_num)\n",
    "        X_num = scaler.fit_transform(X_num)\n",
    "        X_num = pd.DataFrame(X_num, columns=num_cols, index=X_train.index)\n",
    "        X_processed = X_num\n",
    "    \n",
    "    # Process categorical features if they exist\n",
    "    if len(cat_cols) > 0:\n",
    "        X_cat = X_train[cat_cols].copy()\n",
    "        X_cat = cat_imputer.fit_transform(X_cat)\n",
    "        X_cat = pd.DataFrame(X_cat, columns=cat_cols, index=X_train.index)\n",
    "        X_cat = pd.get_dummies(X_cat, drop_first=True)\n",
    "        X_processed = X_cat if X_processed is None else pd.concat([X_processed, X_cat], axis=1)\n",
    "    \n",
    "    # Train model\n",
    "    model = Ridge(random_state=random_state)\n",
    "    model.fit(X_processed, y_train)\n",
    "    \n",
    "    return {\n",
    "        'model': model,\n",
    "        'num_imputer': num_imputer if len(num_cols) > 0 else None,\n",
    "        'cat_imputer': cat_imputer if len(cat_cols) > 0 else None,\n",
    "        'scaler': scaler if len(num_cols) > 0 else None,\n",
    "        'num_cols': num_cols,\n",
    "        'cat_cols': cat_cols\n",
    "    }\n",
    "\n",
    "def train_nonlinear_model(X_train, y_train, random_state=42):\n",
    "    \"\"\"\n",
    "    Train a non-linear model (Random Forest) with preprocessing pipeline\n",
    "    \"\"\"\n",
    "    # Create preprocessing pipeline\n",
    "    num_imputer = SimpleImputer(strategy='mean')\n",
    "    cat_imputer = SimpleImputer(strategy='constant', fill_value='MISSING')\n",
    "    \n",
    "    # Separate numerical and categorical columns\n",
    "    num_cols = X_train.select_dtypes(include=['int64', 'float64']).columns\n",
    "    cat_cols = X_train.select_dtypes(include=['object']).columns\n",
    "    \n",
    "    # Initialize X_processed as None\n",
    "    X_processed = None\n",
    "    \n",
    "    # Process numerical features if they exist\n",
    "    if len(num_cols) > 0:\n",
    "        X_num = X_train[num_cols].copy()\n",
    "        X_num = num_imputer.fit_transform(X_num)\n",
    "        X_num = pd.DataFrame(X_num, columns=num_cols, index=X_train.index)\n",
    "        X_processed = X_num\n",
    "    \n",
    "    # Process categorical features if they exist\n",
    "    if len(cat_cols) > 0:\n",
    "        X_cat = X_train[cat_cols].copy()\n",
    "        X_cat = cat_imputer.fit_transform(X_cat)\n",
    "        X_cat = pd.DataFrame(X_cat, columns=cat_cols, index=X_train.index)\n",
    "        X_cat = pd.get_dummies(X_cat, drop_first=True)\n",
    "        X_processed = X_cat if X_processed is None else pd.concat([X_processed, X_cat], axis=1)\n",
    "    \n",
    "    # Train model\n",
    "    model = RandomForestRegressor(n_estimators=100, random_state=random_state)\n",
    "    model.fit(X_processed, y_train)\n",
    "    \n",
    "    return {\n",
    "        'model': model,\n",
    "        'num_imputer': num_imputer if len(num_cols) > 0 else None,\n",
    "        'cat_imputer': cat_imputer if len(cat_cols) > 0 else None,\n",
    "        'num_cols': num_cols,\n",
    "        'cat_cols': cat_cols\n",
    "    }\n",
    "\n",
    "def evaluate_model(model_dict, X_eval, y_eval):\n",
    "    \"\"\"\n",
    "    Evaluate model performance on evaluation set\n",
    "    \"\"\"\n",
    "    # Apply same preprocessing as training\n",
    "    num_cols = model_dict['num_cols']\n",
    "    cat_cols = model_dict['cat_cols']\n",
    "    \n",
    "    # Initialize X_processed as None\n",
    "    X_processed = None\n",
    "    \n",
    "    # Process numerical features if they exist\n",
    "    if len(num_cols) > 0 and model_dict['num_imputer'] is not None:\n",
    "        X_num = X_eval[num_cols].copy()\n",
    "        X_num = model_dict['num_imputer'].transform(X_num)\n",
    "        # Only scale if it's a linear model (which has a scaler)\n",
    "        if 'scaler' in model_dict and model_dict['scaler'] is not None:\n",
    "            X_num = model_dict['scaler'].transform(X_num)\n",
    "        X_num = pd.DataFrame(X_num, columns=num_cols, index=X_eval.index)\n",
    "        X_processed = X_num\n",
    "    \n",
    "    # Process categorical features if they exist\n",
    "    if len(cat_cols) > 0 and model_dict['cat_imputer'] is not None:\n",
    "        X_cat = X_eval[cat_cols].copy()\n",
    "        X_cat = model_dict['cat_imputer'].transform(X_cat)\n",
    "        X_cat = pd.DataFrame(X_cat, columns=cat_cols, index=X_eval.index)\n",
    "        \n",
    "        # Create dummy variables with the same columns as training\n",
    "        feature_names = model_dict['model'].feature_names_in_\n",
    "        X_cat_dummy = pd.get_dummies(X_cat, drop_first=True)\n",
    "        \n",
    "        # Add missing columns with zeros\n",
    "        missing_cols = set(feature_names) - set(X_cat_dummy.columns)\n",
    "        if len(num_cols) > 0:\n",
    "            missing_cols = missing_cols - set(num_cols)\n",
    "        \n",
    "        for col in missing_cols:\n",
    "            X_cat_dummy[col] = 0\n",
    "            \n",
    "        # Ensure columns are in the same order as during training\n",
    "        cat_feature_names = [col for col in feature_names if col not in num_cols]\n",
    "        X_cat = X_cat_dummy[cat_feature_names]\n",
    "        \n",
    "        X_processed = X_cat if X_processed is None else pd.concat([X_processed, X_cat], axis=1)\n",
    "    \n",
    "    # Ensure columns match training data\n",
    "    X_processed = X_processed[model_dict['model'].feature_names_in_]\n",
    "    \n",
    "    # Make predictions\n",
    "    y_pred = model_dict['model'].predict(X_processed)\n",
    "    \n",
    "    # Calculate metrics\n",
    "    results = {\n",
    "        'rmse': np.sqrt(mean_squared_error(y_eval, y_pred)),\n",
    "        'mae': mean_absolute_error(y_eval, y_pred),\n",
    "        'r2': r2_score(y_eval, y_pred)\n",
    "    }\n",
    "    \n",
    "    return results\n",
    "\n",
    "def plot_feature_groups_treemap(results_df):\n",
    "    \"\"\"\n",
    "    Create a treemap visualization showing the predictive power of different feature groups.\n",
    "    \n",
    "    Args:\n",
    "        results_df (pd.DataFrame): DataFrame containing model results with columns:\n",
    "            group_name, n_features, linear_r2, nonlinear_r2, mean_predictive_power, mean_rmse\n",
    "    \"\"\"\n",
    "    # Create a treemap visualization\n",
    "    fig = px.treemap(\n",
    "        results_df,\n",
    "        path=[px.Constant(\"All Groups\"), 'group_name'],\n",
    "        values='n_features',\n",
    "        color='mean_predictive_power',\n",
    "        custom_data=['linear_r2', 'nonlinear_r2', 'mean_rmse', 'n_features'],\n",
    "        color_continuous_scale='RdYlBu',\n",
    "        color_continuous_midpoint=results_df['mean_predictive_power'].mean()\n",
    "    )\n",
    "\n",
    "    # Customize hover template\n",
    "    fig.update_traces(\n",
    "        hovertemplate=\"\"\"\n",
    "        <b>%{label}</b><br>\n",
    "        Mean R² Score: %{color:.3f}<br>\n",
    "        Linear R²: %{customdata[0]:.3f}<br>\n",
    "        Non-linear R²: %{customdata[1]:.3f}<br>\n",
    "        Mean RMSE: %{customdata[2]:.1f}<br>\n",
    "        Number of features: %{customdata[3]}<br>\n",
    "        \"\"\",\n",
    "    )\n",
    "\n",
    "    # Update layout\n",
    "    fig.update_layout(\n",
    "        title='Feature Groups Predictive Power',\n",
    "        width=1000,\n",
    "        height=600,\n",
    "        coloraxis_colorbar_title='Mean R² Score'\n",
    "    )\n",
    "\n",
    "    fig.show()\n",
    "\n",
    "    # Also print sorted results for reference\n",
    "    print(\"\\nGroups sorted by predictive power:\")\n",
    "    print(results_df.sort_values('mean_predictive_power', ascending=False)[\n",
    "        ['group_name', 'mean_predictive_power', 'mean_rmse', 'n_features']\n",
    "    ].to_string())"
   ]
  },
  {
   "cell_type": "markdown",
   "metadata": {},
   "source": [
    "# Predictive Power Analysis\n",
    "\n",
    "We apply the training and evaluation pipeline to each feature group, and compare the predictive power of linear and non-linear models.\n",
    "The will be stored in the `results` DataFrame, and visualized as a treemap.\n"
   ]
  },
  {
   "cell_type": "code",
   "execution_count": 6,
   "metadata": {},
   "outputs": [
    {
     "name": "stdout",
     "output_type": "stream",
     "text": [
      "\n",
      "Analyzing Demographic Information features...\n",
      "\n",
      "Analyzing Socioeconomic Status features...\n",
      "\n",
      "Analyzing Health and Physical Limitations features...\n",
      "\n",
      "Analyzing Mental Health and Well-being features...\n",
      "\n",
      "Analyzing Lifestyle and Behavior features...\n",
      "\n",
      "Analyzing Social and Family Dynamics features...\n",
      "\n",
      "Analyzing Health Insurance and Coverage features...\n",
      "\n",
      "Analyzing Migration and U.S. Experience features...\n",
      "\n",
      "Analyzing Housing and Environment features...\n",
      "\n",
      "Analyzing Parental Education features...\n",
      "\n",
      "Analyzing Employment and Job History features...\n"
     ]
    },
    {
     "data": {
      "application/vnd.plotly.v1+json": {
       "config": {
        "plotlyServerURL": "https://plot.ly"
       },
       "data": [
        {
         "branchvalues": "total",
         "customdata": [
          [
           0.26954920592508436,
           0.2121599194937842,
           54.257590453589714,
           11,
           0.24085456270943428
          ],
          [
           0.15309504759381698,
           0.039530740463098235,
           59.17932516088182,
           3,
           0.09631289402845761
          ],
          [
           0.08756442554950272,
           0.16899806688449426,
           58.136016872238436,
           13,
           0.1282812462169985
          ],
          [
           0.1715948059730148,
           0.09316297274199814,
           58.00022473562982,
           44,
           0.13237888935750647
          ],
          [
           0.09698555102800865,
           0.09659708474009443,
           59.192906103470186,
           1,
           0.09679131788405154
          ],
          [
           0.10978453074085726,
           -0.017407325409726004,
           60.79461665615746,
           22,
           0.04618860266556563
          ],
          [
           0.027088136215014935,
           -0.011703478480442397,
           62.04089353855034,
           22,
           0.007692328867286269
          ],
          [
           0.07253806683673636,
           0.0722557596554333,
           59.98693941355177,
           1,
           0.07239691324608483
          ],
          [
           0.20275775366988968,
           0.20234145894414268,
           55.619547052657765,
           2,
           0.20254960630701618
          ],
          [
           0.38906450733311204,
           0.3407021001957863,
           49.62764202721142,
           31,
           0.36488330376444916
          ],
          [
           0.47443848471288375,
           0.3976170720656832,
           46.74683524600535,
           22,
           0.43602777838928347
          ],
          [
           "(?)",
           "(?)",
           "(?)",
           172,
           0.19240888187889238
          ]
         ],
         "domain": {
          "x": [
           0,
           1
          ],
          "y": [
           0,
           1
          ]
         },
         "hovertemplate": "\n        <b>%{label}</b><br>\n        Mean R² Score: %{color:.3f}<br>\n        Linear R²: %{customdata[0]:.3f}<br>\n        Non-linear R²: %{customdata[1]:.3f}<br>\n        Mean RMSE: %{customdata[2]:.1f}<br>\n        Number of features: %{customdata[3]}<br>\n        ",
         "ids": [
          "All Groups/Demographic Information",
          "All Groups/Employment and Job History",
          "All Groups/Health Insurance and Coverage",
          "All Groups/Health and Physical Limitations",
          "All Groups/Housing and Environment",
          "All Groups/Lifestyle and Behavior",
          "All Groups/Mental Health and Well-being",
          "All Groups/Migration and U.S. Experience",
          "All Groups/Parental Education",
          "All Groups/Social and Family Dynamics",
          "All Groups/Socioeconomic Status",
          "All Groups"
         ],
         "labels": [
          "Demographic Information",
          "Employment and Job History",
          "Health Insurance and Coverage",
          "Health and Physical Limitations",
          "Housing and Environment",
          "Lifestyle and Behavior",
          "Mental Health and Well-being",
          "Migration and U.S. Experience",
          "Parental Education",
          "Social and Family Dynamics",
          "Socioeconomic Status",
          "All Groups"
         ],
         "marker": {
          "coloraxis": "coloraxis",
          "colors": [
           0.24085456270943428,
           0.09631289402845761,
           0.1282812462169985,
           0.13237888935750647,
           0.09679131788405154,
           0.04618860266556563,
           0.007692328867286269,
           0.07239691324608483,
           0.20254960630701618,
           0.36488330376444916,
           0.43602777838928347,
           0.19240888187889238
          ]
         },
         "name": "",
         "parents": [
          "All Groups",
          "All Groups",
          "All Groups",
          "All Groups",
          "All Groups",
          "All Groups",
          "All Groups",
          "All Groups",
          "All Groups",
          "All Groups",
          "All Groups",
          ""
         ],
         "type": "treemap",
         "values": [
          11,
          3,
          13,
          44,
          1,
          22,
          22,
          1,
          2,
          31,
          22,
          172
         ]
        }
       ],
       "layout": {
        "coloraxis": {
         "cmid": 0.1658506766760122,
         "colorbar": {
          "title": {
           "text": "Mean R² Score"
          }
         },
         "colorscale": [
          [
           0,
           "rgb(165,0,38)"
          ],
          [
           0.1,
           "rgb(215,48,39)"
          ],
          [
           0.2,
           "rgb(244,109,67)"
          ],
          [
           0.3,
           "rgb(253,174,97)"
          ],
          [
           0.4,
           "rgb(254,224,144)"
          ],
          [
           0.5,
           "rgb(255,255,191)"
          ],
          [
           0.6,
           "rgb(224,243,248)"
          ],
          [
           0.7,
           "rgb(171,217,233)"
          ],
          [
           0.8,
           "rgb(116,173,209)"
          ],
          [
           0.9,
           "rgb(69,117,180)"
          ],
          [
           1,
           "rgb(49,54,149)"
          ]
         ]
        },
        "height": 600,
        "legend": {
         "tracegroupgap": 0
        },
        "margin": {
         "t": 60
        },
        "template": {
         "data": {
          "bar": [
           {
            "error_x": {
             "color": "#2a3f5f"
            },
            "error_y": {
             "color": "#2a3f5f"
            },
            "marker": {
             "line": {
              "color": "#E5ECF6",
              "width": 0.5
             },
             "pattern": {
              "fillmode": "overlay",
              "size": 10,
              "solidity": 0.2
             }
            },
            "type": "bar"
           }
          ],
          "barpolar": [
           {
            "marker": {
             "line": {
              "color": "#E5ECF6",
              "width": 0.5
             },
             "pattern": {
              "fillmode": "overlay",
              "size": 10,
              "solidity": 0.2
             }
            },
            "type": "barpolar"
           }
          ],
          "carpet": [
           {
            "aaxis": {
             "endlinecolor": "#2a3f5f",
             "gridcolor": "white",
             "linecolor": "white",
             "minorgridcolor": "white",
             "startlinecolor": "#2a3f5f"
            },
            "baxis": {
             "endlinecolor": "#2a3f5f",
             "gridcolor": "white",
             "linecolor": "white",
             "minorgridcolor": "white",
             "startlinecolor": "#2a3f5f"
            },
            "type": "carpet"
           }
          ],
          "choropleth": [
           {
            "colorbar": {
             "outlinewidth": 0,
             "ticks": ""
            },
            "type": "choropleth"
           }
          ],
          "contour": [
           {
            "colorbar": {
             "outlinewidth": 0,
             "ticks": ""
            },
            "colorscale": [
             [
              0,
              "#0d0887"
             ],
             [
              0.1111111111111111,
              "#46039f"
             ],
             [
              0.2222222222222222,
              "#7201a8"
             ],
             [
              0.3333333333333333,
              "#9c179e"
             ],
             [
              0.4444444444444444,
              "#bd3786"
             ],
             [
              0.5555555555555556,
              "#d8576b"
             ],
             [
              0.6666666666666666,
              "#ed7953"
             ],
             [
              0.7777777777777778,
              "#fb9f3a"
             ],
             [
              0.8888888888888888,
              "#fdca26"
             ],
             [
              1,
              "#f0f921"
             ]
            ],
            "type": "contour"
           }
          ],
          "contourcarpet": [
           {
            "colorbar": {
             "outlinewidth": 0,
             "ticks": ""
            },
            "type": "contourcarpet"
           }
          ],
          "heatmap": [
           {
            "colorbar": {
             "outlinewidth": 0,
             "ticks": ""
            },
            "colorscale": [
             [
              0,
              "#0d0887"
             ],
             [
              0.1111111111111111,
              "#46039f"
             ],
             [
              0.2222222222222222,
              "#7201a8"
             ],
             [
              0.3333333333333333,
              "#9c179e"
             ],
             [
              0.4444444444444444,
              "#bd3786"
             ],
             [
              0.5555555555555556,
              "#d8576b"
             ],
             [
              0.6666666666666666,
              "#ed7953"
             ],
             [
              0.7777777777777778,
              "#fb9f3a"
             ],
             [
              0.8888888888888888,
              "#fdca26"
             ],
             [
              1,
              "#f0f921"
             ]
            ],
            "type": "heatmap"
           }
          ],
          "heatmapgl": [
           {
            "colorbar": {
             "outlinewidth": 0,
             "ticks": ""
            },
            "colorscale": [
             [
              0,
              "#0d0887"
             ],
             [
              0.1111111111111111,
              "#46039f"
             ],
             [
              0.2222222222222222,
              "#7201a8"
             ],
             [
              0.3333333333333333,
              "#9c179e"
             ],
             [
              0.4444444444444444,
              "#bd3786"
             ],
             [
              0.5555555555555556,
              "#d8576b"
             ],
             [
              0.6666666666666666,
              "#ed7953"
             ],
             [
              0.7777777777777778,
              "#fb9f3a"
             ],
             [
              0.8888888888888888,
              "#fdca26"
             ],
             [
              1,
              "#f0f921"
             ]
            ],
            "type": "heatmapgl"
           }
          ],
          "histogram": [
           {
            "marker": {
             "pattern": {
              "fillmode": "overlay",
              "size": 10,
              "solidity": 0.2
             }
            },
            "type": "histogram"
           }
          ],
          "histogram2d": [
           {
            "colorbar": {
             "outlinewidth": 0,
             "ticks": ""
            },
            "colorscale": [
             [
              0,
              "#0d0887"
             ],
             [
              0.1111111111111111,
              "#46039f"
             ],
             [
              0.2222222222222222,
              "#7201a8"
             ],
             [
              0.3333333333333333,
              "#9c179e"
             ],
             [
              0.4444444444444444,
              "#bd3786"
             ],
             [
              0.5555555555555556,
              "#d8576b"
             ],
             [
              0.6666666666666666,
              "#ed7953"
             ],
             [
              0.7777777777777778,
              "#fb9f3a"
             ],
             [
              0.8888888888888888,
              "#fdca26"
             ],
             [
              1,
              "#f0f921"
             ]
            ],
            "type": "histogram2d"
           }
          ],
          "histogram2dcontour": [
           {
            "colorbar": {
             "outlinewidth": 0,
             "ticks": ""
            },
            "colorscale": [
             [
              0,
              "#0d0887"
             ],
             [
              0.1111111111111111,
              "#46039f"
             ],
             [
              0.2222222222222222,
              "#7201a8"
             ],
             [
              0.3333333333333333,
              "#9c179e"
             ],
             [
              0.4444444444444444,
              "#bd3786"
             ],
             [
              0.5555555555555556,
              "#d8576b"
             ],
             [
              0.6666666666666666,
              "#ed7953"
             ],
             [
              0.7777777777777778,
              "#fb9f3a"
             ],
             [
              0.8888888888888888,
              "#fdca26"
             ],
             [
              1,
              "#f0f921"
             ]
            ],
            "type": "histogram2dcontour"
           }
          ],
          "mesh3d": [
           {
            "colorbar": {
             "outlinewidth": 0,
             "ticks": ""
            },
            "type": "mesh3d"
           }
          ],
          "parcoords": [
           {
            "line": {
             "colorbar": {
              "outlinewidth": 0,
              "ticks": ""
             }
            },
            "type": "parcoords"
           }
          ],
          "pie": [
           {
            "automargin": true,
            "type": "pie"
           }
          ],
          "scatter": [
           {
            "fillpattern": {
             "fillmode": "overlay",
             "size": 10,
             "solidity": 0.2
            },
            "type": "scatter"
           }
          ],
          "scatter3d": [
           {
            "line": {
             "colorbar": {
              "outlinewidth": 0,
              "ticks": ""
             }
            },
            "marker": {
             "colorbar": {
              "outlinewidth": 0,
              "ticks": ""
             }
            },
            "type": "scatter3d"
           }
          ],
          "scattercarpet": [
           {
            "marker": {
             "colorbar": {
              "outlinewidth": 0,
              "ticks": ""
             }
            },
            "type": "scattercarpet"
           }
          ],
          "scattergeo": [
           {
            "marker": {
             "colorbar": {
              "outlinewidth": 0,
              "ticks": ""
             }
            },
            "type": "scattergeo"
           }
          ],
          "scattergl": [
           {
            "marker": {
             "colorbar": {
              "outlinewidth": 0,
              "ticks": ""
             }
            },
            "type": "scattergl"
           }
          ],
          "scattermapbox": [
           {
            "marker": {
             "colorbar": {
              "outlinewidth": 0,
              "ticks": ""
             }
            },
            "type": "scattermapbox"
           }
          ],
          "scatterpolar": [
           {
            "marker": {
             "colorbar": {
              "outlinewidth": 0,
              "ticks": ""
             }
            },
            "type": "scatterpolar"
           }
          ],
          "scatterpolargl": [
           {
            "marker": {
             "colorbar": {
              "outlinewidth": 0,
              "ticks": ""
             }
            },
            "type": "scatterpolargl"
           }
          ],
          "scatterternary": [
           {
            "marker": {
             "colorbar": {
              "outlinewidth": 0,
              "ticks": ""
             }
            },
            "type": "scatterternary"
           }
          ],
          "surface": [
           {
            "colorbar": {
             "outlinewidth": 0,
             "ticks": ""
            },
            "colorscale": [
             [
              0,
              "#0d0887"
             ],
             [
              0.1111111111111111,
              "#46039f"
             ],
             [
              0.2222222222222222,
              "#7201a8"
             ],
             [
              0.3333333333333333,
              "#9c179e"
             ],
             [
              0.4444444444444444,
              "#bd3786"
             ],
             [
              0.5555555555555556,
              "#d8576b"
             ],
             [
              0.6666666666666666,
              "#ed7953"
             ],
             [
              0.7777777777777778,
              "#fb9f3a"
             ],
             [
              0.8888888888888888,
              "#fdca26"
             ],
             [
              1,
              "#f0f921"
             ]
            ],
            "type": "surface"
           }
          ],
          "table": [
           {
            "cells": {
             "fill": {
              "color": "#EBF0F8"
             },
             "line": {
              "color": "white"
             }
            },
            "header": {
             "fill": {
              "color": "#C8D4E3"
             },
             "line": {
              "color": "white"
             }
            },
            "type": "table"
           }
          ]
         },
         "layout": {
          "annotationdefaults": {
           "arrowcolor": "#2a3f5f",
           "arrowhead": 0,
           "arrowwidth": 1
          },
          "autotypenumbers": "strict",
          "coloraxis": {
           "colorbar": {
            "outlinewidth": 0,
            "ticks": ""
           }
          },
          "colorscale": {
           "diverging": [
            [
             0,
             "#8e0152"
            ],
            [
             0.1,
             "#c51b7d"
            ],
            [
             0.2,
             "#de77ae"
            ],
            [
             0.3,
             "#f1b6da"
            ],
            [
             0.4,
             "#fde0ef"
            ],
            [
             0.5,
             "#f7f7f7"
            ],
            [
             0.6,
             "#e6f5d0"
            ],
            [
             0.7,
             "#b8e186"
            ],
            [
             0.8,
             "#7fbc41"
            ],
            [
             0.9,
             "#4d9221"
            ],
            [
             1,
             "#276419"
            ]
           ],
           "sequential": [
            [
             0,
             "#0d0887"
            ],
            [
             0.1111111111111111,
             "#46039f"
            ],
            [
             0.2222222222222222,
             "#7201a8"
            ],
            [
             0.3333333333333333,
             "#9c179e"
            ],
            [
             0.4444444444444444,
             "#bd3786"
            ],
            [
             0.5555555555555556,
             "#d8576b"
            ],
            [
             0.6666666666666666,
             "#ed7953"
            ],
            [
             0.7777777777777778,
             "#fb9f3a"
            ],
            [
             0.8888888888888888,
             "#fdca26"
            ],
            [
             1,
             "#f0f921"
            ]
           ],
           "sequentialminus": [
            [
             0,
             "#0d0887"
            ],
            [
             0.1111111111111111,
             "#46039f"
            ],
            [
             0.2222222222222222,
             "#7201a8"
            ],
            [
             0.3333333333333333,
             "#9c179e"
            ],
            [
             0.4444444444444444,
             "#bd3786"
            ],
            [
             0.5555555555555556,
             "#d8576b"
            ],
            [
             0.6666666666666666,
             "#ed7953"
            ],
            [
             0.7777777777777778,
             "#fb9f3a"
            ],
            [
             0.8888888888888888,
             "#fdca26"
            ],
            [
             1,
             "#f0f921"
            ]
           ]
          },
          "colorway": [
           "#636efa",
           "#EF553B",
           "#00cc96",
           "#ab63fa",
           "#FFA15A",
           "#19d3f3",
           "#FF6692",
           "#B6E880",
           "#FF97FF",
           "#FECB52"
          ],
          "font": {
           "color": "#2a3f5f"
          },
          "geo": {
           "bgcolor": "white",
           "lakecolor": "white",
           "landcolor": "#E5ECF6",
           "showlakes": true,
           "showland": true,
           "subunitcolor": "white"
          },
          "hoverlabel": {
           "align": "left"
          },
          "hovermode": "closest",
          "mapbox": {
           "style": "light"
          },
          "paper_bgcolor": "white",
          "plot_bgcolor": "#E5ECF6",
          "polar": {
           "angularaxis": {
            "gridcolor": "white",
            "linecolor": "white",
            "ticks": ""
           },
           "bgcolor": "#E5ECF6",
           "radialaxis": {
            "gridcolor": "white",
            "linecolor": "white",
            "ticks": ""
           }
          },
          "scene": {
           "xaxis": {
            "backgroundcolor": "#E5ECF6",
            "gridcolor": "white",
            "gridwidth": 2,
            "linecolor": "white",
            "showbackground": true,
            "ticks": "",
            "zerolinecolor": "white"
           },
           "yaxis": {
            "backgroundcolor": "#E5ECF6",
            "gridcolor": "white",
            "gridwidth": 2,
            "linecolor": "white",
            "showbackground": true,
            "ticks": "",
            "zerolinecolor": "white"
           },
           "zaxis": {
            "backgroundcolor": "#E5ECF6",
            "gridcolor": "white",
            "gridwidth": 2,
            "linecolor": "white",
            "showbackground": true,
            "ticks": "",
            "zerolinecolor": "white"
           }
          },
          "shapedefaults": {
           "line": {
            "color": "#2a3f5f"
           }
          },
          "ternary": {
           "aaxis": {
            "gridcolor": "white",
            "linecolor": "white",
            "ticks": ""
           },
           "baxis": {
            "gridcolor": "white",
            "linecolor": "white",
            "ticks": ""
           },
           "bgcolor": "#E5ECF6",
           "caxis": {
            "gridcolor": "white",
            "linecolor": "white",
            "ticks": ""
           }
          },
          "title": {
           "x": 0.05
          },
          "xaxis": {
           "automargin": true,
           "gridcolor": "white",
           "linecolor": "white",
           "ticks": "",
           "title": {
            "standoff": 15
           },
           "zerolinecolor": "white",
           "zerolinewidth": 2
          },
          "yaxis": {
           "automargin": true,
           "gridcolor": "white",
           "linecolor": "white",
           "ticks": "",
           "title": {
            "standoff": 15
           },
           "zerolinecolor": "white",
           "zerolinewidth": 2
          }
         }
        },
        "title": {
         "text": "Feature Groups Predictive Power"
        },
        "width": 1000
       }
      }
     },
     "metadata": {},
     "output_type": "display_data"
    },
    {
     "name": "stdout",
     "output_type": "stream",
     "text": [
      "\n",
      "Groups sorted by predictive power:\n",
      "                         group_name  mean_predictive_power  mean_rmse  n_features\n",
      "1              Socioeconomic Status               0.436028  46.746835          22\n",
      "5        Social and Family Dynamics               0.364883  49.627642          31\n",
      "0           Demographic Information               0.240855  54.257590          11\n",
      "9                Parental Education               0.202550  55.619547           2\n",
      "2   Health and Physical Limitations               0.132379  58.000225          44\n",
      "6     Health Insurance and Coverage               0.128281  58.136017          13\n",
      "8           Housing and Environment               0.096791  59.192906           1\n",
      "10       Employment and Job History               0.096313  59.179325           3\n",
      "7     Migration and U.S. Experience               0.072397  59.986939           1\n",
      "4            Lifestyle and Behavior               0.046189  60.794617          22\n",
      "3      Mental Health and Well-being               0.007692  62.040894          22\n"
     ]
    }
   ],
   "source": [
    "\n",
    "results = []\n",
    "for group_name, features in feature_groups.items():\n",
    "    if group_name != 'Identifier':  # Skip identifier group\n",
    "        print(f\"\\nAnalyzing {group_name} features...\")\n",
    "\n",
    "        # remove features that are due to missing values\n",
    "        features = [feature for feature in features if feature not in features_to_drop[\"due_to_missing_values\"]]\n",
    "        # Train models\n",
    "        linear_model = train_linear_model(X_train[features], y_train['composite_score'])\n",
    "        nonlinear_model = train_nonlinear_model(X_train[features], y_train['composite_score'])\n",
    "        \n",
    "        # Evaluate models\n",
    "        linear_scores = evaluate_model(linear_model, X_val[features], y_val['composite_score'])\n",
    "        nonlinear_scores = evaluate_model(nonlinear_model, X_val[features], y_val['composite_score'])\n",
    "        \n",
    "        # Add mean predictive power column\n",
    "        mean_predictive_power = (linear_scores['r2'] + nonlinear_scores['r2']) / 2\n",
    "        mean_rmse = (linear_scores['rmse'] + nonlinear_scores['rmse']) / 2\n",
    "\n",
    "        results.append({\n",
    "            'group_name': group_name,\n",
    "            'n_features': len(features),\n",
    "            'linear_rmse': linear_scores['rmse'],\n",
    "            'linear_r2': linear_scores['r2'],\n",
    "            'nonlinear_rmse': nonlinear_scores['rmse'],\n",
    "            'nonlinear_r2': nonlinear_scores['r2'],\n",
    "            'mean_predictive_power': mean_predictive_power,\n",
    "            'mean_rmse': mean_rmse\n",
    "        })\n",
    "\n",
    "# Convert results to DataFrame\n",
    "results_df = pd.DataFrame(results)\n",
    "results_df.sort_values(by='mean_predictive_power', ascending=False)\n",
    "plot_feature_groups_treemap(results_df)"
   ]
  },
  {
   "cell_type": "markdown",
   "metadata": {},
   "source": [
    "## Top Predictive Groups:\n",
    "+ **Socioeconomic Status** (R² ≈ 0.44) is the strongest predictor, suggesting that economic factors are highly correlated with cognitive decline\n",
    "\n",
    "+ **Social and Family Dynamics** (R² ≈ 0.36) is the second strongest, indicating the importance of social connections and family support\n",
    "\n",
    "+ **Demographic Information** (R² ≈ 0.24) shows moderate predictive power\n",
    "\n",
    "## Middle Range:\n",
    "+ **Parental Education** (R² ≈ 0.20) has decent predictive power despite having only 2 features\n",
    "\n",
    "+ **Health and Physical Limitations** (R² ≈ 0.13) surprisingly shows relatively lower predictive power despite having 44 features\n",
    "\n",
    "+ **Health Insurance and Coverage** (R² ≈ 0.13) also shows moderate predictive power\n",
    "\n",
    "## Weaker Predictors:\n",
    "+   **Housing and Environment**, **Employment and Job History**, and **Migration and U.S. Experience** all show relatively low predictive power (R² < 0.10)\n",
    "\n",
    "<br>\n",
    "\n",
    "# Key Insights:\n",
    "+ **Social determinants** (economic status and social connections) appear more predictive than direct health indicators\n",
    "\n",
    "+ Some small feature groups (like **Parental Education**) punch above their weight in terms of predictive power\n",
    "\n",
    "+ The number of features in a group doesn't necessarily correlate with its predictive power (e.g., **Health and Physical Limitations** has 44 features but relatively low R²)\n"
   ]
  }
 ],
 "metadata": {
  "kernelspec": {
   "display_name": ".venv",
   "language": "python",
   "name": "python3"
  },
  "language_info": {
   "codemirror_mode": {
    "name": "ipython",
    "version": 3
   },
   "file_extension": ".py",
   "mimetype": "text/x-python",
   "name": "python",
   "nbconvert_exporter": "python",
   "pygments_lexer": "ipython3",
   "version": "3.12.3"
  }
 },
 "nbformat": 4,
 "nbformat_minor": 2
}
